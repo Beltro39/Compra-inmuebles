{
  "nbformat": 4,
  "nbformat_minor": 0,
  "metadata": {
    "colab": {
      "name": "OquendoHincapie_JuanPablo.ipynb",
      "provenance": [],
      "collapsed_sections": []
    },
    "kernelspec": {
      "name": "python3",
      "display_name": "Python 3"
    }
  },
  "cells": [
    {
      "cell_type": "code",
      "metadata": {
        "id": "tY8B0ET-QzTq"
      },
      "source": [
        "import re\r\n",
        "\r\n",
        "miPatron1 = re.compile(r'\\btres\\b')\r\n",
        "\r\n",
        "texto = \"\"\"tres tristes Tigres comían Trigo en tres Tristes Platos\"\"\"\r\n",
        "\r\n",
        "print(\"Uso de Split - separar por 'tres'\")\r\n",
        "print(miPatron1.split(texto))\r\n",
        "\r\n",
        "print(miPatron1.split(texto))\r\n",
        "miPatron2 = re.compile(r'\\b[A-Z]\\w*\\b')\r\n",
        "print(miPatron2.split(texto))\r\n",
        "\r\n",
        "print(\"Uso de Sub - Cambiar Triste por Alegre\")\r\n",
        "miPatron3 = re.compile(r'\\b(T|t)riste')\r\n",
        "texto2 = miPatron3.sub(\"Alegre\", texto)\r\n",
        "print(texto2)\r\n",
        "\r\n",
        "print(\"Extraer todas las palabras que comienzan por Tr o tr\")\r\n",
        "print(re.findall(r'\\b[T|t]r\\W*', texto))"
      ],
      "execution_count": null,
      "outputs": []
    },
    {
      "cell_type": "markdown",
      "metadata": {
        "id": "d3p1MvxLdko5"
      },
      "source": [
        "((CRA\\.|CARRERA)|(CALLE|CL(,|.)))\\s*\\d{1,3}\\w*(\\s\\w[^N]|\\s)(NRO\\.|No.).* \r\n",
        "\r\n",
        "((CRA\\.|CARRERA)|(CALLE|CL(,|.))).*"
      ]
    },
    {
      "cell_type": "code",
      "metadata": {
        "id": "XsdVQKkkgSuR"
      },
      "source": [
        "%%writefile universal.py\r\n",
        "import re\r\n",
        "\r\n",
        "def universal(progString, inString):\r\n",
        "  \r\n",
        "  exec(progString)\r\n",
        "\r\n",
        "  localVars = locals()\r\n",
        "  nombreFnPrincipal = getNombreFnPrincipal(progString)\r\n",
        "\r\n",
        "  if nombreFnPrincipal in localVars:\r\n",
        "    fnPrincipal = localVars[nombreFnPrincipal]\r\n",
        "  else:\r\n",
        "    raise Exception(f'La funcion {nombreFnPrincipal} lamentablemente no se ha definido :(')\r\n",
        "  \r\n",
        "  return fnPrincipal(inString)\r\n",
        "\r\n",
        "def getNombreFnPrincipal(progString):\r\n",
        "\r\n",
        "  expresionRegular = r'^def\\s+([a-zA-Z0-9_]*)'\r\n",
        "  coincidencias = re.search(expresionRegular, progString, re.MULTILINE)\r\n",
        "\r\n",
        "  if coincidencias:\r\n",
        "    return coincidencias.group(1)\r\n",
        "  else:\r\n",
        "    return ''"
      ],
      "execution_count": null,
      "outputs": []
    },
    {
      "cell_type": "code",
      "metadata": {
        "id": "smkJ6EzEh4FI"
      },
      "source": [
        "%%writefile containsWeak.py\r\n",
        "\r\n",
        "def containsWeak(inString):\r\n",
        "  if 'AT' in inString:\r\n",
        "    return 'yes'\r\n",
        "  else: \r\n",
        "    return 'no'"
      ],
      "execution_count": null,
      "outputs": []
    },
    {
      "cell_type": "code",
      "metadata": {
        "id": "P1rB4elGjykB"
      },
      "source": [
        "import os\r\n",
        "\r\n",
        "print(os.getcwd())\r\n",
        "\r\n",
        "os.chdir(\"/content\")"
      ],
      "execution_count": null,
      "outputs": []
    },
    {
      "cell_type": "code",
      "metadata": {
        "id": "7ApI-Ou0iRv4"
      },
      "source": [
        "from universal import *\r\n",
        "\r\n",
        "codigo = open(\"containsWeak.py\").read()\r\n",
        "respuesta = universal(codigo, 'GTTGATGA')\r\n",
        "print(respuesta)\r\n"
      ],
      "execution_count": null,
      "outputs": []
    }
  ]
}