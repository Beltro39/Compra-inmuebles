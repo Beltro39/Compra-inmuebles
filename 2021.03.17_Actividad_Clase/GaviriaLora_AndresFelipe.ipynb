{
  "nbformat": 4,
  "nbformat_minor": 0,
  "metadata": {
    "colab": {
      "name": "GaviriaLora_AndresFelipe2.ipynb",
      "provenance": [],
      "collapsed_sections": []
    },
    "kernelspec": {
      "display_name": "Python 3",
      "name": "python3"
    }
  },
  "cells": [
    {
      "cell_type": "code",
      "metadata": {
        "id": "PGAOfl3dPKXA",
        "colab": {
          "base_uri": "https://localhost:8080/"
        },
        "outputId": "ea744314-20e6-4c1c-aebb-08abea9b45e2"
      },
      "source": [
        "import re\n",
        "\n",
        "miPatron1 = re.compile(r'\\btres\\b')\n",
        "\n",
        "texto = \"\"\"tres tristes Tigres comían Trigo en tres Tristes Platos\"\"\"\n",
        "\n",
        "print(\"Uso de Split - separar por 'tres'\")\n",
        "print(miPatron1.split(texto))\n",
        "\n",
        "print(\"Uso de Split - separar por las palabras que comienzan en Mayuscula\")\n",
        "miPatron2 = re.compile(r'\\b[A-Z]\\w*\\b')\n",
        "print(miPatron2.split(texto))\n",
        "\n",
        "print(\"Uso de Sub - Cambiar Triste por Alegre\")\n",
        "miPatron3 = re.compile(r'\\b(T|t)riste')\n",
        "texto2 = miPatron3.sub(\"Alegre\",texto)\n",
        "print(texto2)\n",
        "\n",
        "print(\"Extraer todas las palabras que comienzan por Tr o tr\")\n",
        "print(re.findall(r'\\b[T|t]r\\w*',texto))\n"
      ],
      "execution_count": 1,
      "outputs": [
        {
          "output_type": "stream",
          "text": [
            "Uso de Split - separar por 'tres'\n",
            "['', ' tristes Tigres comían Trigo en ', ' Tristes Platos']\n",
            "Uso de Split - separar por las palabras que comienzan en Mayuscula\n",
            "['tres tristes ', ' comían ', ' en tres ', ' ', '']\n",
            "Uso de Sub - Cambiar Triste por Alegre\n",
            "tres Alegres Tigres comían Trigo en tres Alegres Platos\n",
            "Extraer todas las palabras que comienzan por Tr o tr\n",
            "['tres', 'tristes', 'Trigo', 'tres', 'Tristes']\n"
          ],
          "name": "stdout"
        }
      ]
    },
    {
      "cell_type": "markdown",
      "metadata": {
        "id": "aa_cCBwctgWi"
      },
      "source": [
        "Expresión regular para direcciones"
      ]
    },
    {
      "cell_type": "markdown",
      "metadata": {
        "id": "SfW1HEyjvVNu"
      },
      "source": [
        "(CRA(\\.|\\,|\\s)|CALLE|CARRERA\\s|CL(\\.|\\,))\\s*\\d{1,3}\\s*\\w{1,4}\\s(NRO(\\.|\\,)|No.)\\s*\\d{1,4}"
      ]
    },
    {
      "cell_type": "code",
      "metadata": {
        "colab": {
          "base_uri": "https://localhost:8080/"
        },
        "id": "tZHEexw5iDJc",
        "outputId": "8a4ad866-cc97-4d84-bde2-fd58cd428bee"
      },
      "source": [
        "%%writefile containsWeak.py\n",
        "\n",
        "def containsWeak(inString):\n",
        "  if 'AT' in inString:\n",
        "    return 'yes'\n",
        "  else:\n",
        "    return 'no'"
      ],
      "execution_count": 2,
      "outputs": [
        {
          "output_type": "stream",
          "text": [
            "Writing containsWeak.py\n"
          ],
          "name": "stdout"
        }
      ]
    },
    {
      "cell_type": "code",
      "metadata": {
        "colab": {
          "base_uri": "https://localhost:8080/"
        },
        "id": "acb7nwNWgsy3",
        "outputId": "ce5d7118-dbca-41ba-aa99-12de7a38c3d8"
      },
      "source": [
        "%%writefile universal.py\n",
        "import re\n",
        "def universal(progString,inString):\n",
        "\n",
        "  exec(progString)\n",
        "  localVars = locals()\n",
        "  nombreFnPrincipal = getNombreFnPrincipal(progString)\n",
        "  if nombreFnPrincipal in localVars:\n",
        "    fnPrincipal = localVars[nombreFnPrincipal]\n",
        "  else:\n",
        "    raise Exception('La funcion '+ nombreFnPrincipal + \\\n",
        "                    'lamentablemente no se ha definido :(')\n",
        "  return fnPrincipal(inString)\n",
        "\n",
        "def getNombreFnPrincipal(progString):\n",
        "  expresionRegular = r'^def\\s+([a-zA-Z0-9]*)'\n",
        "  coincidencias = re.search(expresionRegular,progString,re.MULTILINE)\n",
        "  if coincidencias:\n",
        "    return coincidencias.group(1)\n",
        "  else:\n",
        "    return ''\n"
      ],
      "execution_count": 3,
      "outputs": [
        {
          "output_type": "stream",
          "text": [
            "Writing universal.py\n"
          ],
          "name": "stdout"
        }
      ]
    },
    {
      "cell_type": "code",
      "metadata": {
        "id": "8cHZjnYYiaW0",
        "colab": {
          "base_uri": "https://localhost:8080/"
        },
        "outputId": "f11d0e6b-d5ff-4e25-a546-c7a8a20bf784"
      },
      "source": [
        "import os\n",
        "print(os.getcwd())"
      ],
      "execution_count": null,
      "outputs": [
        {
          "output_type": "stream",
          "text": [
            "/content\n"
          ],
          "name": "stdout"
        }
      ]
    },
    {
      "cell_type": "code",
      "metadata": {
        "colab": {
          "base_uri": "https://localhost:8080/"
        },
        "id": "hrKAPY8cke67",
        "outputId": "80eac276-04fc-45fa-b710-a33b0a9a7d1a"
      },
      "source": [
        "from universal import *\n",
        "\n",
        "codigo = open(\"containsWeak.py\").read()\n",
        "respuesta = universal(codigo,'GTTGATGA')\n",
        "print(respuesta)"
      ],
      "execution_count": 4,
      "outputs": [
        {
          "output_type": "stream",
          "text": [
            "yes\n"
          ],
          "name": "stdout"
        }
      ]
    }
  ]
}