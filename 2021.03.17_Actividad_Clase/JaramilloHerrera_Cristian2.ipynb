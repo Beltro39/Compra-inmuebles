{
  "nbformat": 4,
  "nbformat_minor": 0,
  "metadata": {
    "colab": {
      "name": "JaramilloHerrera_Cristian2.ipynb",
      "provenance": []
    },
    "kernelspec": {
      "name": "python3",
      "display_name": "Python 3"
    }
  },
  "cells": [
    {
      "cell_type": "code",
      "metadata": {
        "colab": {
          "base_uri": "https://localhost:8080/"
        },
        "id": "FnESgEns8hHV",
        "outputId": "2694a2fc-54ea-40ef-aa6f-ab812e3af260"
      },
      "source": [
        "# Importar módulo regex, Expresiones Regulares\n",
        "import re\n",
        "\n",
        "# Primero se compila la expresion regular en un objeto de patrones.\n",
        "# Este objeto tiene métodos para diversas operaciones, como sustituciones o búsquedas.\n",
        "\n",
        "# Expresion donde coincida con la palabra delimitada \"tres\"\n",
        "miPatron1 = re.compile(r'\\btres\\b')\n",
        "\n",
        "# Métodos Básicos\n",
        "# match(): La regex tiene coincidencias al principio de la entrada (texto).\n",
        "# search(): Buscando cualquier ubicación donde exista una coincidencia.\n",
        "# findall(): Retorna una lista con todas las partes donde haya una coincidencia.\n",
        "\n",
        "texto = \"\"\"tres tristes Tigres comían Trigo en tres Tristes Platos\"\"\"\n",
        "\n",
        "print(\"Uso de Split - separar por 'tres'\")\n",
        "print(miPatron1.split(texto))\n",
        "\n",
        "# Las que comienzan con mayúscula\n",
        "print(\"Uso de Split - separar por las palabras que comienzan en Mayúscula\")\n",
        "miPatron2 = re.compile(r'\\b[A-Z]\\w*\\b')\n",
        "print(miPatron2.split(texto))\n",
        "\n",
        "#Cambiar Triste por Alegre\n",
        "print(\"Uso de Sub - Cambiar Triste por Alegre\")\n",
        "miPatron3 = re.compile(r'\\b(T|t)riste') #¿qué tal si se pone \\b al final de riste?\n",
        "texto2 = miPatron3.sub(\"Alegre\", texto) #¿qué tal si se pone s al final de Alegre?\n",
        "print(texto2)\n",
        "\n",
        "print(\"Extraer todas las palabras que comienzan por TR o tr\")\n",
        "print(re.findall(r'\\b[T|t]r\\w*', texto))"
      ],
      "execution_count": null,
      "outputs": [
        {
          "output_type": "stream",
          "text": [
            "Uso de Split - separar por 'tres'\n",
            "['', ' tristes Tigres comían Trigo en ', ' Tristes Platos']\n",
            "Uso de Split - separar por las palabras que comienzan en Mayúscula\n",
            "['tres tristes ', ' comían ', ' en tres ', ' ', '']\n",
            "Uso de Sub - Cambiar Triste por Alegre\n",
            "tres Alegres Tigres comían Trigo en tres Alegres Platos\n",
            "Extraer todas las palabras que comienzan por TR o tr\n",
            "['tres', 'tristes', 'Trigo', 'tres', 'Tristes']\n"
          ],
          "name": "stdout"
        }
      ]
    },
    {
      "cell_type": "code",
      "metadata": {
        "id": "LGLwP96RhNRt",
        "colab": {
          "base_uri": "https://localhost:8080/"
        },
        "outputId": "3408cd70-1bc0-401d-987e-1526992942a4"
      },
      "source": [
        " %%writefile universal.py\n",
        "\n",
        "import re\n",
        "\n",
        "def universal(progString, inString):\n",
        "  exec(progString)\n",
        "  localVars = locals()\n",
        "  nombreFnPrincipal = getNombreFnPrincipal(progString)\n",
        "\n",
        "  if nombreFnPrincipal in localVars:\n",
        "    fnPrincipal = localVars[nombreFnPrincipal]\n",
        "  else:\n",
        "    raise Exception('La función ' + nombreFnPrincipal + '\\n' +' lamentablemente no se ha definido :)')\n",
        "\n",
        "  return fnPrincipal(inString)\n",
        "\n",
        "def getNombreFnPrincipal(progString):\n",
        "  expresionRegular = r'^def\\s+([a-zA-Z0-9_]*)'\n",
        "  coincidencias = re.search(expresionRegular, progString, re.MULTILINE )\n",
        "  if coincidencias:\n",
        "    return coincidencias.group(1)\n",
        "  else:\n",
        "    return''"
      ],
      "execution_count": null,
      "outputs": [
        {
          "output_type": "stream",
          "text": [
            "Writing universal.py\n"
          ],
          "name": "stdout"
        }
      ]
    },
    {
      "cell_type": "code",
      "metadata": {
        "id": "VMMDm7mNoTvd",
        "colab": {
          "base_uri": "https://localhost:8080/"
        },
        "outputId": "08c331b1-802b-4c76-dd4e-554338d8f366"
      },
      "source": [
        "%%writefile containsWeak.py\n",
        "\n",
        "def containsWeak(inString):\n",
        "  if 'AT' in inString:\n",
        "    return 'yes'\n",
        "  else:\n",
        "    return 'no'"
      ],
      "execution_count": null,
      "outputs": [
        {
          "output_type": "stream",
          "text": [
            "Writing containsWeak.py\n"
          ],
          "name": "stdout"
        }
      ]
    },
    {
      "cell_type": "code",
      "metadata": {
        "id": "IHcKpRyzoWII",
        "colab": {
          "base_uri": "https://localhost:8080/"
        },
        "outputId": "ae816021-0fed-4195-a2eb-91a64a06ece4"
      },
      "source": [
        "from universal import *\n",
        "\n",
        "codigo = open(\"containsWeak.py\").read()\n",
        "respuesta = universal(codigo, 'GTTGATGA')\n",
        "print(respuesta)\n",
        "\n",
        "import os\n",
        "print(os.getcwd())"
      ],
      "execution_count": null,
      "outputs": [
        {
          "output_type": "stream",
          "text": [
            "yes\n",
            "/content\n"
          ],
          "name": "stdout"
        }
      ]
    }
  ]
}