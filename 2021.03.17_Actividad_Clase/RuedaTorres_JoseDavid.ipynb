{
  "nbformat": 4,
  "nbformat_minor": 0,
  "metadata": {
    "colab": {
      "name": "RuedaTorres_JoseDavid.ipynb",
      "provenance": [],
      "toc_visible": true
    },
    "kernelspec": {
      "name": "python3",
      "display_name": "Python 3"
    }
  },
  "cells": [
    {
      "cell_type": "code",
      "metadata": {
        "id": "uofha5mPEWqT"
      },
      "source": [
        "import re \r\n",
        "\r\n",
        "miPatron1 = re.compile(r'\\btres\\b')\r\n",
        "\r\n",
        "texto = \"\"\"tres tristes Tigres comian Trigo en tres Tristes Platos\"\"\"\r\n",
        "\r\n",
        "print(\"Uso de split - separar por 'tres'\")\r\n",
        "print(miPatron1.split(texto))\r\n",
        "\r\n",
        "print(\"Uso de Split - separar por las palabras que comienzan en Mayuscula\")\r\n",
        "miPatron2 = re.compile(r'\\b[A-Z]\\w*\\b')\r\n",
        "print(miPatron2.split(texto))\r\n",
        "\r\n",
        "print(\"Uso de Sub - Cambiar triste por alegre\")\r\n",
        "miPatron3 = re.compile(r'\\b(T|t)riste')\r\n",
        "texto2 = miPatron3.sub(\"Alegre\",texto)\r\n",
        "print(texto2)\r\n",
        "\r\n",
        "print(\"Extraer todas las palabras que comienzan por Tr o tr\")\r\n",
        "print(re.findall(r'\\b[T|t]r\\w*',texto))\r\n"
      ],
      "execution_count": null,
      "outputs": []
    },
    {
      "cell_type": "code",
      "metadata": {
        "id": "toPgs-GNiMWZ"
      },
      "source": [
        "%%writefile universal.py\r\n",
        "\r\n",
        "from universal import *\r\n",
        "import re\r\n",
        "\r\n",
        "def universal(progString, inString):\r\n",
        "  exec(progString)\r\n",
        "\r\n",
        "  localVars = locals()\r\n",
        "  nombreFnPrincipal = getNombreFnPrincipal(progString)\r\n",
        "\r\n",
        "  if nombreFnPrincipal in localVars:\r\n",
        "    fnPrincipal = localVars[nombreFnPrincipal]\r\n",
        "  else:\r\n",
        "    raise Exception ('La función ' + nombreFnPrincipal + ' lamentablemente no se ha definido :(' )\r\n",
        "\r\n",
        "    return fnPrincipal(inString)\r\n",
        "\r\n",
        "def getNombreFnPrincipal(progString):\r\n",
        "  expresionRegular =  r'^def\\s+([a-zA-Z0-9_]*)'\r\n",
        "  coincidencias = re.search(expresionRegular, progString, re.MULTILINE)\r\n",
        "  if coincidencias:\r\n",
        "    return coincidencias.group(1)\r\n",
        "  else:\r\n",
        "    return ''"
      ],
      "execution_count": null,
      "outputs": []
    },
    {
      "cell_type": "code",
      "metadata": {
        "id": "zt_D4XTKlCOR"
      },
      "source": [
        "import os\r\n",
        "from universal import *\r\n",
        "codigo = open(\"containsWeak.py\").read()\r\n",
        "respuesta = universal(codigo, 'GTTGATGA')\r\n",
        "print(respuesta)"
      ],
      "execution_count": null,
      "outputs": []
    },
    {
      "cell_type": "code",
      "metadata": {
        "id": "ucwQQmK57rCF"
      },
      "source": [
        "Regex: (CRA\\W|CALLE|CARRERA|CL\\W)\\s*\\d*\\s*\\w*\\s*[NRO|no|B].*"
      ],
      "execution_count": null,
      "outputs": []
    }
  ]
}