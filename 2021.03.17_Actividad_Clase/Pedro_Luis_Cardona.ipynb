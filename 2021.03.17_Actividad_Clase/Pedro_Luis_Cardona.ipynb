{
  "nbformat": 4,
  "nbformat_minor": 0,
  "metadata": {
    "colab": {
      "name": "Pedro-Luis-Cardona.ipynb",
      "provenance": [],
      "collapsed_sections": []
    },
    "kernelspec": {
      "name": "python3",
      "display_name": "Python 3"
    }
  },
  "cells": [
    {
      "cell_type": "code",
      "metadata": {
        "colab": {
          "base_uri": "https://localhost:8080/"
        },
        "id": "ph71w2XdQk2q",
        "outputId": "d37f0835-e14c-4448-fd79-e93885e14534"
      },
      "source": [
        "import re\r\n",
        "\r\n",
        "miPatron1 = re.compile(r'\\btres\\b')\r\n",
        "\r\n",
        "texto = \"\"\"tres tristes Tigres comían Trigo en tres Tristes Platos\"\"\"\r\n",
        "print(miPatron1.split(texto))"
      ],
      "execution_count": 2,
      "outputs": [
        {
          "output_type": "stream",
          "text": [
            "['', ' tristes Tigres comían Trigo en ', ' Tristes Platos']\n"
          ],
          "name": "stdout"
        }
      ]
    },
    {
      "cell_type": "code",
      "metadata": {
        "colab": {
          "base_uri": "https://localhost:8080/"
        },
        "id": "G4ylC9bSRoJn",
        "outputId": "5a7e0eb5-dfd1-4e54-8609-80ceba9fdbde"
      },
      "source": [
        "miPatron2 = re.compile(r'\\b[A-Z]\\W*\\b')\r\n",
        "print(miPatron2.split(texto))"
      ],
      "execution_count": 6,
      "outputs": [
        {
          "output_type": "stream",
          "text": [
            "['tres tristes Tigres comían Trigo en tres Tristes Platos']\n"
          ],
          "name": "stdout"
        }
      ]
    },
    {
      "cell_type": "code",
      "metadata": {
        "colab": {
          "base_uri": "https://localhost:8080/"
        },
        "id": "SPN0kNyKSqI5",
        "outputId": "f21fd70d-dfd9-4aec-9aa0-97280ac4b82c"
      },
      "source": [
        "miPatron3 = re.compile(r'\\b(T|t)riste')\r\n",
        "texto2 = miPatron3.sub(\"Alegre\",texto)\r\n",
        "print(texto2)"
      ],
      "execution_count": 5,
      "outputs": [
        {
          "output_type": "stream",
          "text": [
            "tres Alegres Tigres comían Trigo en tres Alegres Platos\n"
          ],
          "name": "stdout"
        }
      ]
    },
    {
      "cell_type": "code",
      "metadata": {
        "colab": {
          "base_uri": "https://localhost:8080/"
        },
        "id": "S17cl9GQTS60",
        "outputId": "e1a1a95c-fd50-47cc-d012-c21c41c5ab9b"
      },
      "source": [
        "print(re.findall(r'\\b[T|t]r\\w*',texto))"
      ],
      "execution_count": 7,
      "outputs": [
        {
          "output_type": "stream",
          "text": [
            "['tres', 'tristes', 'Trigo', 'tres', 'Tristes']\n"
          ],
          "name": "stdout"
        }
      ]
    }
  ]
}