{
  "nbformat": 4,
  "nbformat_minor": 0,
  "metadata": {
    "colab": {
      "name": "Untitled0.ipynb",
      "provenance": []
    },
    "kernelspec": {
      "name": "python3",
      "display_name": "Python 3"
    }
  },
  "cells": [
    {
      "cell_type": "markdown",
      "metadata": {
        "id": "O-oAk2Iv8Z1y"
      },
      "source": [
        "Parte 1 "
      ]
    },
    {
      "cell_type": "code",
      "metadata": {
        "id": "rkL5lUu2Q5qC"
      },
      "source": [
        "import re\r\n",
        "miPatron1 = re.compile(r'\\btres\\b')\r\n",
        "texto = \"\"\"tres tristes Tigres comian Trigo en tres Tristes Platos\"\"\"\r\n",
        "\r\n",
        "print(\"Uso de Split - separar por 'tres'\")\r\n",
        "print(miPatron1.split(texto))\r\n",
        "\r\n",
        "print(\"Uso de Split - separar por palabras que comienzan en Mayuscula\")\r\n",
        "miPatron2 = re.compile(r'\\b[A-Z]\\w*\\b')\r\n",
        "print(miPatron2.split(texto))\r\n",
        "\r\n",
        "print(\"Uso de Sub - Cambiar Triste por Alegre\")\r\n",
        "miPatron3 = re.compile(r'\\b(T|t)riste')\r\n",
        "texto2 = miPatron3.sub(\"Alegre\", texto)\r\n",
        "print(texto2)\r\n",
        "\r\n",
        "print(\"Extraer todas las palabras que comienzan por Tr o tr\")\r\n",
        "print(re.findall(r'\\b[T|t]r\\w*', texto))"
      ],
      "execution_count": null,
      "outputs": []
    },
    {
      "cell_type": "code",
      "metadata": {
        "id": "rgVjcAXU7yC4"
      },
      "source": [
        "Regular Expresion1: (CRA.|CALLE|CL.|CARRERA)\\s*\\d{1,9}\\w*\\s[NRO|No|B|E].*\r\n",
        "Regular Expresion2: (CRA.|CALLE|CL.|CARRERA).*"
      ],
      "execution_count": null,
      "outputs": []
    },
    {
      "cell_type": "markdown",
      "metadata": {
        "id": "LdZkWCzGgOGA"
      },
      "source": [
        "Parte 2 ------"
      ]
    },
    {
      "cell_type": "code",
      "metadata": {
        "colab": {
          "base_uri": "https://localhost:8080/"
        },
        "id": "d0__RKIzgQk9",
        "outputId": "6b77d4ae-47ed-425a-b1dc-f0230ed6e243"
      },
      "source": [
        "%%writefile universal.py\r\n",
        "import re\r\n",
        "\r\n",
        "def universal(progString, inString):\r\n",
        "  exec(progString)\r\n",
        "\r\n",
        "  localVars = locals()\r\n",
        "  nombreFnPrincipal = getNombreFnPrincipal(progString)\r\n",
        "\r\n",
        "  if nombreFnPrincipal in localVars:\r\n",
        "    fnPrincipal = localVars[nombreFnPrincipal]\r\n",
        "  else:\r\n",
        "    raise Exception ('La función ' + nombreFnPrincipal + ' lamentablemente no se ha definido :(' )\r\n",
        "\r\n",
        "  return fnPrincipal(inString)\r\n",
        "\r\n",
        "def getNombreFnPrincipal(progString):\r\n",
        "  expresionRegular =  r'^def\\s+([a-zA-Z0-9_]*)'\r\n",
        "  coincidencias = re.search(expresionRegular, progString, re.MULTILINE)\r\n",
        "  if coincidencias:\r\n",
        "    return coincidencias.group(1)\r\n",
        "  else:\r\n",
        "    return ''"
      ],
      "execution_count": 16,
      "outputs": [
        {
          "output_type": "stream",
          "text": [
            "Writing universal.py\n"
          ],
          "name": "stdout"
        }
      ]
    },
    {
      "cell_type": "code",
      "metadata": {
        "colab": {
          "base_uri": "https://localhost:8080/"
        },
        "id": "p6Vdmw2thNVI",
        "outputId": "901b5316-52bf-4825-81e5-5bb63b6edea1"
      },
      "source": [
        "%%writefile containsWeak.py\r\n",
        "def containsWeak(inString):\r\n",
        "  if 'AT' in inString:\r\n",
        "    return 'yes'\r\n",
        "  else:\r\n",
        "    return 'no'"
      ],
      "execution_count": 14,
      "outputs": [
        {
          "output_type": "stream",
          "text": [
            "Writing containsWeak.py\n"
          ],
          "name": "stdout"
        }
      ]
    },
    {
      "cell_type": "code",
      "metadata": {
        "colab": {
          "base_uri": "https://localhost:8080/"
        },
        "id": "lWXNri7nh4O-",
        "outputId": "fcb517b5-4a69-4ed5-8eda-1de6a3725a21"
      },
      "source": [
        "import os\r\n",
        "from universal import *\r\n",
        "codigo = open(\"containsWeak.py\").read()\r\n",
        "respuesta = universal(codigo, 'GTTGATGA')\r\n",
        "print(respuesta)"
      ],
      "execution_count": 20,
      "outputs": [
        {
          "output_type": "stream",
          "text": [
            "yes\n"
          ],
          "name": "stdout"
        }
      ]
    }
  ]
}