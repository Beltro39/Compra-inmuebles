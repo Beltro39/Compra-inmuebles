{
  "nbformat": 4,
  "nbformat_minor": 0,
  "metadata": {
    "colab": {
      "name": "FernandezMoreno_JuanDavid.ipynb",
      "provenance": []
    },
    "kernelspec": {
      "name": "python3",
      "display_name": "Python 3"
    }
  },
  "cells": [
    {
      "cell_type": "code",
      "metadata": {
        "colab": {
          "base_uri": "https://localhost:8080/"
        },
        "id": "mssxxPhiTwiy",
        "outputId": "1083b3d1-8683-4ebf-9aae-e71ed1502b04"
      },
      "source": [
        "import re\n",
        "\n",
        "miPatron1 = re.compile(r'\\btres\\b')\n",
        "texto = \"\"\"tres tristes Tigres comían Trigo en tres Tristes platos\"\"\"\n",
        "\n",
        "print(\"Uso de Split - separar por 'tres'\")\n",
        "print(miPatron1.split(texto))\n",
        "\n",
        "print(\"Uso de Split - separar por las palabras que comienzan en Mayúscula\")\n",
        "miPatron2 = re.compile(r'\\b[A-Z]\\w*\\b')\n",
        "print(miPatron2.split(texto))\n",
        "\n",
        "print(\"Uso de Sub - Cambiar Triste por Alegre\")\n",
        "miPatron3 = re.compile(r'\\b(T|t)riste')\n",
        "texto2 = miPatron3.sub(\"Alegre\", texto)\n",
        "print(texto2)\n",
        "\n",
        "print(\"Extraer todas las palabras que comienzan por Tr o tr\")\n",
        "print(re.findall(r'\\b[T|t]r\\w*', texto))"
      ],
      "execution_count": 1,
      "outputs": [
        {
          "output_type": "stream",
          "text": [
            "Uso de Split - separar por 'tres'\n",
            "['', ' tristes Tigres comían Trigo en ', ' Tristes platos']\n",
            "Uso de Split - separar por las palabras que comienzan en Mayúscula\n",
            "['tres tristes ', ' comían ', ' en tres ', ' platos']\n",
            "Uso de Sub - Cambiar Triste por Alegre\n",
            "tres Alegres Tigres comían Trigo en tres Alegres platos\n",
            "Extraer todas las palabras que comienzan por Tr o tr\n",
            "['tres', 'tristes', 'Trigo', 'tres', 'Tristes']\n"
          ],
          "name": "stdout"
        }
      ]
    },
    {
      "cell_type": "markdown",
      "metadata": {
        "id": "k7VP76a-T9EI"
      },
      "source": [
        "**RegEx**"
      ]
    },
    {
      "cell_type": "code",
      "metadata": {
        "colab": {
          "base_uri": "https://localhost:8080/"
        },
        "id": "8Ua8kX-tT-ha",
        "outputId": "3317b50c-f2cd-4adc-9097-0e86d35842c0"
      },
      "source": [
        "%%writefile universal.py\n",
        "import re \n",
        "\n",
        "def universal(progString, inString):\n",
        "\n",
        "  exec(progString)\n",
        "\n",
        "  localVars = locals()\n",
        "  nombreFnPrincipal = getNombreFnPrincipal(progString)\n",
        "\n",
        "  if nombreFnPrincipal in localVars:\n",
        "    fnPrincipal = localVars[nombreFnPrincipal]\n",
        "  else:\n",
        "    raise Exception('La función ' + nombreFnPrincipal + ' lamentablemente no se ha definido :(')  \n",
        "  \n",
        "  return fnPrincipal(inString)\n",
        "\n",
        "def getNombreFnPrincipal(progString):\n",
        "\n",
        "  expresionRegular = r'^def\\s+([a-zA-Z0-9_]*)'\n",
        "  coincidencias = re.search(expresionRegular, progString, re.MULTILINE)\n",
        "  if coincidencias:\n",
        "    return coincidencias.group(1)\n",
        "  else:\n",
        "    return ''  "
      ],
      "execution_count": 3,
      "outputs": [
        {
          "output_type": "stream",
          "text": [
            "Writing universal.py\n"
          ],
          "name": "stdout"
        }
      ]
    },
    {
      "cell_type": "code",
      "metadata": {
        "colab": {
          "base_uri": "https://localhost:8080/"
        },
        "id": "E-d3zD8RUFRT",
        "outputId": "e0f1c5f4-9e21-4e6d-f6bb-92e26acfee8c"
      },
      "source": [
        "%%writefile containsWeak.py\n",
        "def containsWeak(inString):\n",
        "  if 'AT' in inString:\n",
        "    return 'yes'\n",
        "  else:\n",
        "    return 'no'  "
      ],
      "execution_count": 4,
      "outputs": [
        {
          "output_type": "stream",
          "text": [
            "Writing containsWeak.py\n"
          ],
          "name": "stdout"
        }
      ]
    },
    {
      "cell_type": "code",
      "metadata": {
        "colab": {
          "base_uri": "https://localhost:8080/",
          "height": 214
        },
        "id": "EPFW3EGaUIQE",
        "outputId": "a2d12bb6-0c35-4eb8-8fae-5c12fd518a0c"
      },
      "source": [
        "from universal import *\n",
        "\n",
        "codigo = open(\"containsWeak.py\").read()\n",
        "respuesta = universal(codigo, 'GTTGATGA')\n",
        "print(respuesta)\n",
        "\n",
        "import os\n",
        "\n",
        "os.getcwd\n",
        "os.chdir(\"C:\\\\python\")"
      ],
      "execution_count": 5,
      "outputs": [
        {
          "output_type": "stream",
          "text": [
            "yes\n"
          ],
          "name": "stdout"
        },
        {
          "output_type": "error",
          "ename": "FileNotFoundError",
          "evalue": "ignored",
          "traceback": [
            "\u001b[0;31m---------------------------------------------------------------------------\u001b[0m",
            "\u001b[0;31mFileNotFoundError\u001b[0m                         Traceback (most recent call last)",
            "\u001b[0;32m<ipython-input-5-edcbb52e9b76>\u001b[0m in \u001b[0;36m<module>\u001b[0;34m()\u001b[0m\n\u001b[1;32m      8\u001b[0m \u001b[0;34m\u001b[0m\u001b[0m\n\u001b[1;32m      9\u001b[0m \u001b[0mos\u001b[0m\u001b[0;34m.\u001b[0m\u001b[0mgetcwd\u001b[0m\u001b[0;34m\u001b[0m\u001b[0;34m\u001b[0m\u001b[0m\n\u001b[0;32m---> 10\u001b[0;31m \u001b[0mos\u001b[0m\u001b[0;34m.\u001b[0m\u001b[0mchdir\u001b[0m\u001b[0;34m(\u001b[0m\u001b[0;34m\"C:\\\\python\"\u001b[0m\u001b[0;34m)\u001b[0m\u001b[0;34m\u001b[0m\u001b[0;34m\u001b[0m\u001b[0m\n\u001b[0m",
            "\u001b[0;31mFileNotFoundError\u001b[0m: [Errno 2] No such file or directory: 'C:\\\\python'"
          ]
        }
      ]
    }
  ]
}