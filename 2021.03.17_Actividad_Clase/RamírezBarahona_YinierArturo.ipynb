{
  "nbformat": 4,
  "nbformat_minor": 0,
  "metadata": {
    "colab": {
      "name": "RamírezBarahona_YinierArturo.ipynb",
      "provenance": []
    },
    "kernelspec": {
      "name": "python3",
      "display_name": "Python 3"
    }
  },
  "cells": [
    {
      "cell_type": "code",
      "metadata": {
        "colab": {
          "base_uri": "https://localhost:8080/"
        },
        "id": "8pQL4VvyuLYA",
        "outputId": "ecdb411b-fafb-400e-e35b-47a5f6a2f1f9"
      },
      "source": [
        "import re\r\n",
        "\r\n",
        "miPatron1=re.compile(r'\\btres\\b')\r\n",
        "\r\n",
        "texto = \"tres tristes Tigres comían Trigo en tres Tristes Platos\"\r\n",
        "\r\n",
        "print(\"Uso de Split - separar por 'tres'\")\r\n",
        "print(miPatron1.split(texto))\r\n",
        "\r\n",
        "print(\"Uso de Split - separar por las palabras que comienzan en Mayúscula\")\r\n",
        "miPatron2=re.compile(r'\\b[A-Z]\\w*\\b')\r\n",
        "print(miPatron2.split(texto))\r\n",
        "\r\n",
        "print(\"Uso de Sub - Cambiar Triste por Alegre\")\r\n",
        "miPatron3=re.compile(r'\\b(T|t)riste')\r\n",
        "texto2=miPatron3.sub(\"Alegre\", texto)\r\n",
        "print(texto2)\r\n",
        "\r\n",
        "print(\"Extraer todas las palabras que comienzan por Tr o  tr\")\r\n",
        "print(re.findall(r'\\b[T|t]r\\w*', texto))"
      ],
      "execution_count": 7,
      "outputs": [
        {
          "output_type": "stream",
          "text": [
            "Uso de Split - separar por 'tres'\n",
            "['', ' tristes Tigres comían Trigo en ', ' Tristes Platos']\n",
            "Uso de Split - separar por las palabras que comienzan en Mayúscula\n",
            "['tres tristes ', ' comían ', ' en tres ', ' ', '']\n",
            "Uso de Sub - Cambiar Triste por Alegre\n",
            "tres Alegres Tigres comían Trigo en tres Alegres Platos\n",
            "Extraer todas las palabras que comienzan por Tr o  tr\n",
            "['tres', 'tristes', 'Trigo', 'tres', 'Tristes']\n"
          ],
          "name": "stdout"
        }
      ]
    },
    {
      "cell_type": "markdown",
      "metadata": {
        "id": "iE6RgisluM02"
      },
      "source": [
        "**Regex** ->  \r\n",
        "(CRA.|CALLE|CARRERA|CL(.|,))\\s\\d{1,3}\\w*|(\\s)(No.|NRO.|No)\\s\\d\\w.*"
      ]
    },
    {
      "cell_type": "code",
      "metadata": {
        "colab": {
          "base_uri": "https://localhost:8080/"
        },
        "id": "MJMJrTefmNq3",
        "outputId": "6ca23bb1-6569-40d6-9d87-32b769699781"
      },
      "source": [
        "%%writefile universal.py\r\n",
        "import re\r\n",
        "def universal(progString, inString):\r\n",
        "  exec(progString)\r\n",
        "\r\n",
        "  localVars = locals()\r\n",
        "  nombreFnPrincipal = getNombreFnPrinicpal(progString)\r\n",
        "\r\n",
        "  if nombreFnPrincipal in localVars:\r\n",
        "    fnPrincipal = localVars[nombreFnPrincipal]\r\n",
        "  else:\r\n",
        "    raise Exception('La funcion' + nombreFnPrincipal + \\\r\n",
        "                    'lamentablemente no se ha definido :(')  \r\n",
        "    \r\n",
        "  return fnPrincipal(inString) \r\n",
        "\r\n",
        "def getNombreFnPrinicpal(progString):\r\n",
        "  expresionRegular = r'^def\\s+([a-zA-Z0-9_]*)'\r\n",
        "  coincidencias = re.search(expresionRegular, progString, re.MULTILINE)\r\n",
        "  if coincidencias:\r\n",
        "    return coincidencias.group(1)\r\n",
        "  else:\r\n",
        "    return ''  "
      ],
      "execution_count": 2,
      "outputs": [
        {
          "output_type": "stream",
          "text": [
            "Writing universal.py\n"
          ],
          "name": "stdout"
        }
      ]
    },
    {
      "cell_type": "code",
      "metadata": {
        "colab": {
          "base_uri": "https://localhost:8080/"
        },
        "id": "qRVH7wtamTyL",
        "outputId": "5ced5830-8f24-451d-b22d-8fbfc46459c0"
      },
      "source": [
        "%%writefile containsWeak.py\r\n",
        "\r\n",
        "def containsWeak(inString):\r\n",
        "  if 'AT' in inString:\r\n",
        "    return 'yes'\r\n",
        "  else:\r\n",
        "      return 'no'"
      ],
      "execution_count": 5,
      "outputs": [
        {
          "output_type": "stream",
          "text": [
            "Overwriting containsWeak.py\n"
          ],
          "name": "stdout"
        }
      ]
    },
    {
      "cell_type": "code",
      "metadata": {
        "colab": {
          "base_uri": "https://localhost:8080/"
        },
        "id": "HK4sqJZHmV3B",
        "outputId": "2e66b892-1b70-4ba2-d00d-7acaf8c0f75f"
      },
      "source": [
        "from universal import*\r\n",
        "\r\n",
        "codigo = open(\"containsWeak.py\").read()\r\n",
        "respuesta= universal(codigo, 'GTTGATGA')\r\n",
        "print(respuesta)\r\n",
        "\r\n",
        "import os\r\n",
        "print(os.getcwd())"
      ],
      "execution_count": 6,
      "outputs": [
        {
          "output_type": "stream",
          "text": [
            "yes\n",
            "/content\n"
          ],
          "name": "stdout"
        }
      ]
    }
  ]
}