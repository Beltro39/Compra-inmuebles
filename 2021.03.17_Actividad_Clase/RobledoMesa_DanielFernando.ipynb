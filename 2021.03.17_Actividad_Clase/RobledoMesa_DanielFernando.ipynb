{
  "nbformat": 4,
  "nbformat_minor": 0,
  "metadata": {
    "colab": {
      "name": "RobledoMesa_DanielFernando.ipynb",
      "provenance": [],
      "collapsed_sections": []
    },
    "kernelspec": {
      "name": "python3",
      "display_name": "Python 3"
    }
  },
  "cells": [
    {
      "cell_type": "code",
      "metadata": {
        "colab": {
          "base_uri": "https://localhost:8080/"
        },
        "id": "eLbNMi39Pip2",
        "outputId": "0c38d0cf-abf0-4de3-d681-def03e0942fb"
      },
      "source": [
        "import re\r\n",
        "\r\n",
        "miPatron1 = re.compile(r'\\btres\\b')\r\n",
        "texto = \"\"\"tres tristes Tigres comían Trigo en tres Tristes platos\"\"\"\r\n",
        "\r\n",
        "print(\"Uso de Split - separar por 'tres'\")\r\n",
        "print(miPatron1.split(texto))\r\n",
        "\r\n",
        "print(\"Uso de Split - separar por las palabras que comienzan en Mayúscula\")\r\n",
        "miPatron2 = re.compile(r'\\b[A-Z]\\w*\\b')\r\n",
        "print(miPatron2.split(texto))\r\n",
        "\r\n",
        "print(\"Uso de Sub - Cambiar Triste por Alegre\")\r\n",
        "miPatron3 = re.compile(r'\\b(T|t)riste')\r\n",
        "texto2 = miPatron3.sub(\"Alegre\", texto)\r\n",
        "print(texto2)\r\n",
        "\r\n",
        "print(\"Extraer todas las palabras que comienzan por Tr o tr\")\r\n",
        "print(re.findall(r'\\b[T|t]r\\w*', texto))"
      ],
      "execution_count": 2,
      "outputs": [
        {
          "output_type": "stream",
          "text": [
            "Uso de Split - separar por 'tres'\n",
            "['', ' tristes Tigres comían Trigo en ', ' Tristes platos']\n",
            "Uso de Split - separar por las palabras que comienzan en Mayúscula\n",
            "['tres tristes ', ' comían ', ' en tres ', ' platos']\n",
            "Uso de Sub - Cambiar Triste por Alegre\n",
            "tres Alegres Tigres comían Trigo en tres Alegres platos\n",
            "Extraer todas las palabras que comienzan por Tr o tr\n",
            "['tres', 'tristes', 'Trigo', 'tres', 'Tristes']\n"
          ],
          "name": "stdout"
        }
      ]
    },
    {
      "cell_type": "markdown",
      "metadata": {
        "id": "lu0hVmDPcnCU"
      },
      "source": [
        "**RegEx**"
      ]
    },
    {
      "cell_type": "code",
      "metadata": {
        "id": "Uz2P89UVcp11"
      },
      "source": [
        "(CRA\\.|CALLE|CL\\.|CL\\,|CARRERA|KM)\\s*\\d{1,3}\\w*"
      ],
      "execution_count": null,
      "outputs": []
    },
    {
      "cell_type": "code",
      "metadata": {
        "colab": {
          "base_uri": "https://localhost:8080/"
        },
        "id": "Xo2Fvpowdjbj",
        "outputId": "4a2947d3-f191-438a-f285-9c8d22277ba5"
      },
      "source": [
        "%%writefile universal.py\r\n",
        "import re \r\n",
        "\r\n",
        "def universal(progString, inString):\r\n",
        "\r\n",
        "  exec(progString)\r\n",
        "\r\n",
        "  localVars = locals()\r\n",
        "  nombreFnPrincipal = getNombreFnPrincipal(progString)\r\n",
        "\r\n",
        "  if nombreFnPrincipal in localVars:\r\n",
        "    fnPrincipal = localVars[nombreFnPrincipal]\r\n",
        "  else:\r\n",
        "    raise Exception('La función ' + nombreFnPrincipal + ' lamentablemente no se ha definido :(')  \r\n",
        "  \r\n",
        "  return fnPrincipal(inString)\r\n",
        "\r\n",
        "def getNombreFnPrincipal(progString):\r\n",
        "\r\n",
        "  expresionRegular = r'^def\\s+([a-zA-Z0-9_]*)'\r\n",
        "  coincidencias = re.search(expresionRegular, progString, re.MULTILINE)\r\n",
        "  if coincidencias:\r\n",
        "    return coincidencias.group(1)\r\n",
        "  else:\r\n",
        "    return ''  "
      ],
      "execution_count": 1,
      "outputs": [
        {
          "output_type": "stream",
          "text": [
            "Overwriting universal.py\n"
          ],
          "name": "stdout"
        }
      ]
    },
    {
      "cell_type": "code",
      "metadata": {
        "colab": {
          "base_uri": "https://localhost:8080/"
        },
        "id": "T57qbARnfg0t",
        "outputId": "6670d667-fc06-465f-bfe0-fa00c2eef328"
      },
      "source": [
        "%%writefile containsWeak.py\r\n",
        "def containsWeak(inString):\r\n",
        "  if 'AT' in inString:\r\n",
        "    return 'yes'\r\n",
        "  else:\r\n",
        "    return 'no'  "
      ],
      "execution_count": 6,
      "outputs": [
        {
          "output_type": "stream",
          "text": [
            "Overwriting containsWeak.py\n"
          ],
          "name": "stdout"
        }
      ]
    },
    {
      "cell_type": "code",
      "metadata": {
        "colab": {
          "base_uri": "https://localhost:8080/",
          "height": 214
        },
        "id": "XVKEvElfhcY3",
        "outputId": "d1f619b7-97cb-4bd3-c86a-237ecc445a9e"
      },
      "source": [
        "from universal import *\r\n",
        "\r\n",
        "codigo = open(\"containsWeak.py\").read()\r\n",
        "respuesta = universal(codigo, 'GTTGATGA')\r\n",
        "print(respuesta)\r\n",
        "\r\n",
        "import os\r\n",
        "\r\n",
        "os.getcwd\r\n",
        "os.chdir(\"C:\\\\python\")"
      ],
      "execution_count": 7,
      "outputs": [
        {
          "output_type": "stream",
          "text": [
            "yes\n"
          ],
          "name": "stdout"
        },
        {
          "output_type": "error",
          "ename": "FileNotFoundError",
          "evalue": "ignored",
          "traceback": [
            "\u001b[0;31m---------------------------------------------------------------------------\u001b[0m",
            "\u001b[0;31mFileNotFoundError\u001b[0m                         Traceback (most recent call last)",
            "\u001b[0;32m<ipython-input-7-edcbb52e9b76>\u001b[0m in \u001b[0;36m<module>\u001b[0;34m()\u001b[0m\n\u001b[1;32m      8\u001b[0m \u001b[0;34m\u001b[0m\u001b[0m\n\u001b[1;32m      9\u001b[0m \u001b[0mos\u001b[0m\u001b[0;34m.\u001b[0m\u001b[0mgetcwd\u001b[0m\u001b[0;34m\u001b[0m\u001b[0;34m\u001b[0m\u001b[0m\n\u001b[0;32m---> 10\u001b[0;31m \u001b[0mos\u001b[0m\u001b[0;34m.\u001b[0m\u001b[0mchdir\u001b[0m\u001b[0;34m(\u001b[0m\u001b[0;34m\"C:\\\\python\"\u001b[0m\u001b[0;34m)\u001b[0m\u001b[0;34m\u001b[0m\u001b[0;34m\u001b[0m\u001b[0m\n\u001b[0m",
            "\u001b[0;31mFileNotFoundError\u001b[0m: [Errno 2] No such file or directory: 'C:\\\\python'"
          ]
        }
      ]
    }
  ]
}