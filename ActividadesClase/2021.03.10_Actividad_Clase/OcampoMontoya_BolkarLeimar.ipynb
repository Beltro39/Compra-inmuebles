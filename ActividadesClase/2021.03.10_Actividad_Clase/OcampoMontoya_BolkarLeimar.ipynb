{
  "nbformat": 4,
  "nbformat_minor": 0,
  "metadata": {
    "colab": {
      "name": "Untitled9.ipynb",
      "provenance": []
    },
    "kernelspec": {
      "name": "python3",
      "display_name": "Python 3"
    }
  },
  "cells": [
    {
      "cell_type": "markdown",
      "metadata": {
        "id": "_VefU6EXmwxs"
      },
      "source": [
        "Caso 1 de la clase\r\n"
      ]
    },
    {
      "cell_type": "code",
      "metadata": {
        "id": "y9uF9zSeLhMN"
      },
      "source": [
        "def contieneGC(inString):\r\n",
        "  if \"GC\" in inString:\r\n",
        "    return \"si\"\r\n",
        "  else:\r\n",
        "    return \"no\"\r\n",
        "\r\n",
        "print(contieneGC(\"ATGCATTA\"))\r\n",
        "print(contieneGC(\"ATGACATTA\"))\r\n",
        "\r\n",
        "def testContieneGC():\r\n",
        "  testVals = [(\"ATGCATTA\", \"si\"),\r\n",
        "              (\"CCCGAGA\", \"no\"),\r\n",
        "              (\"AGAGAGAAGAAGAGAAA\", \"no\"),\r\n",
        "              (\"\", \"no\"),\r\n",
        "              (\"CCCCCCCCGAGTTTT\", \"no\"),\r\n",
        "              ]\r\n",
        "  for (inString, esperado) in testVals:\r\n",
        "    respuesta = contieneGC(inString)\r\n",
        "    print(inString, \":\", respuesta)\r\n",
        "    assert respuesta == esperado\r\n",
        "  print(\"¡Pruebas Superadas!\")\r\n",
        "\r\n",
        "testContieneGC()"
      ],
      "execution_count": null,
      "outputs": []
    },
    {
      "cell_type": "markdown",
      "metadata": {
        "id": "hfvhfZrXmtT1"
      },
      "source": [
        "Caso 2 de la clase"
      ]
    },
    {
      "cell_type": "code",
      "metadata": {
        "id": "zNAfPF1nSoCr"
      },
      "source": [
        "def multiplicalos(inString):\r\n",
        "  numbers = inString.split()\r\n",
        "\r\n",
        "  for i in range(len(numbers)):\r\n",
        "    numbers[i] = int(numbers[i]);\r\n",
        "\r\n",
        "  product = 1\r\n",
        "  for num in numbers:\r\n",
        "    product = product * num\r\n",
        "\r\n",
        "  productString = str(product)\r\n",
        "  return productString\r\n",
        "\r\n",
        "if(__name__ == \"__main__\"):\r\n",
        "  print(multiplicalos(\"1 2 5 10\"))"
      ],
      "execution_count": null,
      "outputs": []
    },
    {
      "cell_type": "markdown",
      "metadata": {
        "id": "lt8wkcZ0bTMN"
      },
      "source": [
        "Punto A\r\n",
        "\r\n"
      ]
    },
    {
      "cell_type": "code",
      "metadata": {
        "colab": {
          "base_uri": "https://localhost:8080/"
        },
        "id": "PKuY0Vjlbd14",
        "outputId": "5c70e3fe-f687-46ff-df03-03d8a1bf303a"
      },
      "source": [
        "def sumaSegundo(inString):\r\n",
        "  numeros = inString.split()\r\n",
        "  for i in range(len(numeros)):\r\n",
        "    numeros[i] = int(numeros[i])\r\n",
        "  final = 0;\r\n",
        "  for i in range(len(numeros)):\r\n",
        "    if (i%2 != 0):\r\n",
        "      final = final + numeros[i]\r\n",
        "  finalString = str(final)\r\n",
        "  return finalString\r\n",
        "x = str(input(\"Ingrese los numeros: \"))\r\n",
        "print(sumaSegundo(x))"
      ],
      "execution_count": 14,
      "outputs": [
        {
          "output_type": "stream",
          "text": [
            "Ingrese los numeros: 1 1 1 1 1 1\n",
            "3\n"
          ],
          "name": "stdout"
        }
      ]
    },
    {
      "cell_type": "markdown",
      "metadata": {
        "id": "DvPM90wnhsmK"
      },
      "source": [
        "Punto B"
      ]
    },
    {
      "cell_type": "code",
      "metadata": {
        "colab": {
          "base_uri": "https://localhost:8080/"
        },
        "id": "BYsizHUmhuf0",
        "outputId": "e8ccd143-b516-4a45-a0b1-e17a446a1c08"
      },
      "source": [
        "def sumaTercero(inString):\r\n",
        "  numeros = inString.split()\r\n",
        "  for i in range(len(numeros)):\r\n",
        "    numeros[i] = int(numeros[i])\r\n",
        "  final = 0;\r\n",
        "  for i in range(len(numeros)):\r\n",
        "    if ((i+1)%3 == 0):\r\n",
        "      final = final + numeros[i]\r\n",
        "  finalString = str(final)\r\n",
        "  return finalString\r\n",
        "x = str(input(\"Ingrese los numeros: \"))\r\n",
        "print(sumaTercero(x))"
      ],
      "execution_count": 13,
      "outputs": [
        {
          "output_type": "stream",
          "text": [
            "Ingrese los numeros: 51 53 52 50\n",
            "52\n"
          ],
          "name": "stdout"
        }
      ]
    },
    {
      "cell_type": "markdown",
      "metadata": {
        "id": "pHIQIYlLiX6W"
      },
      "source": [
        "Punto C"
      ]
    },
    {
      "cell_type": "code",
      "metadata": {
        "colab": {
          "base_uri": "https://localhost:8080/"
        },
        "id": "zJp4PxF9iYzO",
        "outputId": "c22eb7b5-3377-4541-ff26-db330c4e0d99"
      },
      "source": [
        "def decision(inString):\r\n",
        "  j = int(sumaSegundo(inString))\r\n",
        "  k = int(sumaTercero(inString))\r\n",
        "  if(k > j):\r\n",
        "    return \"si\"\r\n",
        "  else:\r\n",
        "    return \"no\"\r\n",
        "casoSi = \"1 1 3 1 1 3 1 1 3\"\r\n",
        "casoNo = \"1 2 3 4 5 6\"\r\n",
        "print(decision(casoSi))\r\n",
        "print(decision(casoNo))"
      ],
      "execution_count": 11,
      "outputs": [
        {
          "output_type": "stream",
          "text": [
            "si\n",
            "no\n"
          ],
          "name": "stdout"
        }
      ]
    }
  ]
}