{
  "nbformat": 4,
  "nbformat_minor": 0,
  "metadata": {
    "colab": {
      "name": "RuedaTorres_JoseDavid.ipynb",
      "provenance": []
    },
    "kernelspec": {
      "name": "python3",
      "display_name": "Python 3"
    }
  },
  "cells": [
    {
      "cell_type": "code",
      "metadata": {
        "id": "UgBg5BsFJOBX"
      },
      "source": [
        "def contieneGC(entrada):\r\n",
        "  if 'GC' in entrada:\r\n",
        "    return 'si'\r\n",
        "  else:\r\n",
        "    return 'no'\r\n",
        "\r\n",
        "print(contieneGC(\"ATGCATTA\"))\r\n",
        "print(contieneGC(\"ATGACATTA\"))\r\n",
        "\r\n",
        "\r\n",
        "def testContieneGC():\r\n",
        "  valores = [('ATGCATTA','si'),('CCCGAGA','no'),('AGAGAGAAGAAGAGAAA','no'),('GAGACCCGCC', 'si'),('','no'),('CCCCCCCCCGAGTTTT','no')]\r\n",
        "\r\n",
        "  for (entrada, esperado) in valores:\r\n",
        "   respuesta = contieneGC(entrada)\r\n",
        "   print(entrada + ': ' + respuesta)\r\n",
        "   assert respuesta == esperado\r\n",
        "  print(\"¡Pruebas Superadas!\")\r\n",
        "\r\n",
        "testContieneGC()"
      ],
      "execution_count": null,
      "outputs": []
    },
    {
      "cell_type": "code",
      "metadata": {
        "id": "NiM1l4DyTE-8"
      },
      "source": [
        "def multiplicalos(inString):\r\n",
        "  numbers = inString.split()\r\n",
        "\r\n",
        "  for i in range (len(numbers)):\r\n",
        "    numbers[i] = int(numbers[i])\r\n",
        "\r\n",
        "  product = 1\r\n",
        "  for num in numbers:\r\n",
        "    product = product * num\r\n",
        "\r\n",
        "  productString = str(product)\r\n",
        "  return productString\r\n",
        "\r\n",
        "if (__name__ == \"__main__\"):\r\n",
        "  print(multiplicalos(\"1 2 5 10\"))\r\n"
      ],
      "execution_count": null,
      "outputs": []
    },
    {
      "cell_type": "code",
      "metadata": {
        "id": "rSLX3OSQaoAT"
      },
      "source": [
        "def sumaSegundo(inString):\r\n",
        "  numbers = inString.split()\r\n",
        "\r\n",
        "  for i in range (len(numbers)):\r\n",
        "    numbers[i] = int(numbers[i])\r\n",
        "\r\n",
        "  i = 1\r\n",
        "  suma = 0\r\n",
        "  while (i < len(numbers)):\r\n",
        "    suma = suma + numbers[i]\r\n",
        "    i = i + 2\r\n",
        "  return(str(suma))\r\n",
        "\r\n",
        "print(\"Ingrese La Secuencia\")\r\n",
        "sumaSegundo(input())"
      ],
      "execution_count": null,
      "outputs": []
    },
    {
      "cell_type": "code",
      "metadata": {
        "id": "toh3md_9cA8B"
      },
      "source": [
        "def sumaTercero(inString):\r\n",
        "  numbers = inString.split()\r\n",
        "\r\n",
        "  for i in range (len(numbers)):\r\n",
        "    numbers[i] = int(numbers[i])\r\n",
        "\r\n",
        "  i = 2\r\n",
        "  suma = 0\r\n",
        "  while (i < len(numbers)):\r\n",
        "    suma = suma + numbers[i]\r\n",
        "    i = i + 3\r\n",
        "  return(str(suma))\r\n",
        "\r\n",
        "print(\"Ingrese La Secuencia\")\r\n",
        "sumaTercero(input())"
      ],
      "execution_count": null,
      "outputs": []
    },
    {
      "cell_type": "code",
      "metadata": {
        "id": "W7jyvYrucIl3"
      },
      "source": [
        "def comprobacion(inString):\r\n",
        "  if (int(sumaTercero(inString)) > int(sumaSegundo(inString))):\r\n",
        "    return ('si')\r\n",
        "  else:\r\n",
        "    return ('no')\r\n",
        "\r\n",
        "casoRechazo = (\"1 20 3 4 5 6\")\r\n",
        "casoAceptacion = (\"6 12 40 1 2 20\")\r\n",
        "print(comprobacion(casoRechazo))\r\n",
        "print(comprobacion(casoAceptacion))\r\n"
      ],
      "execution_count": null,
      "outputs": []
    }
  ]
}