{
  "nbformat": 4,
  "nbformat_minor": 0,
  "metadata": {
    "colab": {
      "name": "QuinteroValencia_Santiago.ipynb",
      "provenance": []
    },
    "kernelspec": {
      "name": "python3",
      "display_name": "Python 3"
    }
  },
  "cells": [
    {
      "cell_type": "code",
      "metadata": {
        "colab": {
          "base_uri": "https://localhost:8080/"
        },
        "id": "zxD6wJkgYG_o",
        "outputId": "cb569c71-af6c-44e3-9d9c-77d41f681626"
      },
      "source": [
        "def contieneGC(inString):\r\n",
        "  if 'GC' in inString:\r\n",
        "    return 'si'\r\n",
        "  else:\r\n",
        "    return 'no'\r\n",
        "\r\n",
        "print(contieneGC(\"ATGCATTA\"))\r\n",
        "print(contieneGC(\"ATGACATTA\"))\r\n",
        "\r\n",
        "def testContieneGC():\r\n",
        "  testVals = [('ATGCATTA','si'),\r\n",
        "              ('CCCGAGA','no'),\r\n",
        "              ('AGAGAGAAGAAGAGAAA','no'),\r\n",
        "              ('GAGACCCGCC','si'),\r\n",
        "              ('','no'),\r\n",
        "              ('CCCCCCCCGAGTTTT','no'),\r\n",
        "              ]\r\n",
        "  for (inString, esperado) in testVals:\r\n",
        "    respuesta = contieneGC(inString)\r\n",
        "    print(inString,':',respuesta)\r\n",
        "    assert respuesta == esperado\r\n",
        "  print(\"¡Pruebas Superadas!\")\r\n",
        "\r\n",
        "testContieneGC()"
      ],
      "execution_count": 16,
      "outputs": [
        {
          "output_type": "stream",
          "text": [
            "si\n",
            "no\n",
            "ATGCATTA : si\n",
            "CCCGAGA : no\n",
            "AGAGAGAAGAAGAGAAA : no\n",
            "GAGACCCGCC : si\n",
            " : no\n",
            "CCCCCCCCGAGTTTT : no\n",
            "¡Pruebas Superadas!\n"
          ],
          "name": "stdout"
        }
      ]
    },
    {
      "cell_type": "code",
      "metadata": {
        "colab": {
          "base_uri": "https://localhost:8080/"
        },
        "id": "4dMks0KubetC",
        "outputId": "f22ebe1f-61f3-4445-d2cc-03a0323605ae"
      },
      "source": [
        "def multiplicalos(inString):\r\n",
        "  numbers = inString.split()\r\n",
        "  for i in range(len(numbers)):\r\n",
        "    try:\r\n",
        "      numbers[i] = int(numbers[i])\r\n",
        "    except:\r\n",
        "      return 'No es número'\r\n",
        "  product = 1\r\n",
        "  for num in numbers:\r\n",
        "    product = product*num\r\n",
        "  productString = str(product)\r\n",
        "  return productString\r\n",
        "\r\n",
        "def testmultiplicalos():\r\n",
        "  testVals = [('2 3 5','30'),('3 3 3','27'),('1 1 1 1 1','1'),(' ',''),('',''),('1 d 3 5','15'),]\r\n",
        "  for (inString, esperado) in testVals:\r\n",
        "    respuesta = multiplicalos(inString)\r\n",
        "    try:\r\n",
        "      assert respuesta == esperado\r\n",
        "      print('Cumple:',esperado,':',respuesta)\r\n",
        "\r\n",
        "    except:\r\n",
        "      print('\\nNO CUMPLE',esperado,':',respuesta)\r\n",
        "\r\n",
        "  print(\"¡Pruebas Superadas!\")\r\n",
        "\r\n",
        "if (__name__=='__main__'):\r\n",
        "  print(multiplicalos(\"1 2 5 10\"))\r\n",
        "  testmultiplicalos()"
      ],
      "execution_count": 17,
      "outputs": [
        {
          "output_type": "stream",
          "text": [
            "100\n",
            "Cumple: 30 : 30\n",
            "Cumple: 27 : 27\n",
            "Cumple: 1 : 1\n",
            "\n",
            "NO CUMPLE  : 1\n",
            "\n",
            "NO CUMPLE  : 1\n",
            "\n",
            "NO CUMPLE 15 : No es número\n",
            "¡Pruebas Superadas!\n"
          ],
          "name": "stdout"
        }
      ]
    },
    {
      "cell_type": "code",
      "metadata": {
        "colab": {
          "base_uri": "https://localhost:8080/"
        },
        "id": "rwTukBd_dZjf",
        "outputId": "58f0b230-7fe9-4d2f-9cfa-5450ee7d9a39"
      },
      "source": [
        "def sumaSegundo(inString):\r\n",
        "  list_numbers = list(inString.split())\r\n",
        "  sum = 0\r\n",
        "  for i in range(1,len(list_numbers),2):\r\n",
        "    try:\r\n",
        "      sum = sum + int(list_numbers[i])\r\n",
        "    except:\r\n",
        "      return 'No es numero'\r\n",
        "  return sum\r\n",
        "\r\n",
        "def testsumaSegundo():\r\n",
        "  testVals = [('2 3 5','3'),('3 3 3 3','6'),('1 1 1 1 1','2'),('1','0'),(' ',''),('',''),('1 d 3 5',''),]\r\n",
        "  for (inString, esperado) in testVals:\r\n",
        "    respuesta = sumaSegundo(inString)\r\n",
        "    try:\r\n",
        "      assert respuesta == esperado\r\n",
        "      print('Cumple:',esperado,':',respuesta)\r\n",
        "\r\n",
        "    except:\r\n",
        "      print('\\nNO CUMPLE:',esperado,':',respuesta)\r\n",
        "      \r\n",
        "  print(\"¡Pruebas Superadas!\")\r\n",
        "\r\n",
        "if (__name__=='__main__'):\r\n",
        "  print(sumaSegundo('58 41 78 3 25 9'))\r\n",
        "  testsumaSegundo()"
      ],
      "execution_count": 18,
      "outputs": [
        {
          "output_type": "stream",
          "text": [
            "53\n",
            "\n",
            "NO CUMPLE: 3 : 3\n",
            "\n",
            "NO CUMPLE: 6 : 6\n",
            "\n",
            "NO CUMPLE: 2 : 2\n",
            "\n",
            "NO CUMPLE: 0 : 0\n",
            "\n",
            "NO CUMPLE:  : 0\n",
            "\n",
            "NO CUMPLE:  : 0\n",
            "\n",
            "NO CUMPLE:  : No es numero\n",
            "¡Pruebas Superadas!\n"
          ],
          "name": "stdout"
        }
      ]
    },
    {
      "cell_type": "code",
      "metadata": {
        "colab": {
          "base_uri": "https://localhost:8080/"
        },
        "id": "f11jSLDthxjd",
        "outputId": "cc6918e0-963c-4ba9-9e0c-f6f7b37bd7bc"
      },
      "source": [
        "def sumaTercero(inString):\r\n",
        "  list_numbers = list(inString.split())\r\n",
        "  sum = 0\r\n",
        "  for i in range(2,len(list_numbers),3):\r\n",
        "    try:\r\n",
        "      sum = sum + int(list_numbers[i])\r\n",
        "    except:\r\n",
        "      return 'No es número'\r\n",
        "  return sum\r\n",
        "\r\n",
        "def testsumaTercero():\r\n",
        "  testVals = [('2 3 5','5'),('3 3 3 3','3'),('1 1 1 1 1 1','2'),('1','0'),(' ',''),('',''),('1 d 3 5','3'),('1 3 d 5','')]\r\n",
        "  for (inString, esperado) in testVals:\r\n",
        "    respuesta = sumaTercero(inString)\r\n",
        "    try:\r\n",
        "      assert respuesta == esperado\r\n",
        "      print('Cumple:',esperado,':',respuesta)\r\n",
        "\r\n",
        "    except:\r\n",
        "      print('\\nNO CUMPLE:',esperado,':',respuesta)\r\n",
        "      \r\n",
        "  print(\"¡Pruebas Superadas!\")\r\n",
        "\r\n",
        "if (__name__=='__main__'):\r\n",
        "  print(sumaTercero('58 41 78 3 25 9'))\r\n",
        "  testsumaTercero()"
      ],
      "execution_count": 19,
      "outputs": [
        {
          "output_type": "stream",
          "text": [
            "87\n",
            "\n",
            "NO CUMPLE: 5 : 5\n",
            "\n",
            "NO CUMPLE: 3 : 3\n",
            "\n",
            "NO CUMPLE: 2 : 2\n",
            "\n",
            "NO CUMPLE: 0 : 0\n",
            "\n",
            "NO CUMPLE:  : 0\n",
            "\n",
            "NO CUMPLE:  : 0\n",
            "\n",
            "NO CUMPLE: 3 : 3\n",
            "\n",
            "NO CUMPLE:  : No es número\n",
            "¡Pruebas Superadas!\n"
          ],
          "name": "stdout"
        }
      ]
    },
    {
      "cell_type": "code",
      "metadata": {
        "colab": {
          "base_uri": "https://localhost:8080/"
        },
        "id": "S4U_zc6ZiIRQ",
        "outputId": "3c270411-dd3d-4032-9efc-4f513c1ab000"
      },
      "source": [
        "def funcionDesicion (inString):\r\n",
        "  seg = sumaSegundo(inString)\r\n",
        "  ter = sumaTercero(inString)\r\n",
        "  try:\r\n",
        "    if (int(seg)<int(ter)):\r\n",
        "      return 'Si'\r\n",
        "    else:\r\n",
        "      return 'No'\r\n",
        "  except:\r\n",
        "    'No se puede comparar'\r\n",
        "\r\n",
        "def testfuncionDesicion():\r\n",
        "  testVals = [('2 3 5','Si'),('3 3 3 3','No'),('1 1 1 1 1 1','No'),('1',''),(' ',''),('',''),('1 d 3 5',''),('1 3 d 5','')]\r\n",
        "  for (inString, esperado) in testVals:\r\n",
        "    respuesta = funcionDesicion(inString)\r\n",
        "    try:\r\n",
        "      assert respuesta == esperado\r\n",
        "      print('Cumple:',esperado,':',respuesta)\r\n",
        "\r\n",
        "    except:\r\n",
        "      print('\\nNO CUMPLE:',esperado,':',respuesta)\r\n",
        "      \r\n",
        "  print(\"¡Pruebas Superadas!\")\r\n",
        "\r\n",
        "\r\n",
        "if (__name__=='__main__'):\r\n",
        "  print(funcionDesicion('58 41 78 3 25 9'))\r\n",
        "  testfuncionDesicion()"
      ],
      "execution_count": 23,
      "outputs": [
        {
          "output_type": "stream",
          "text": [
            "Si\n",
            "Cumple: Si : Si\n",
            "Cumple: No : No\n",
            "Cumple: No : No\n",
            "\n",
            "NO CUMPLE:  : No\n",
            "\n",
            "NO CUMPLE:  : No\n",
            "\n",
            "NO CUMPLE:  : No\n",
            "\n",
            "NO CUMPLE:  : None\n",
            "\n",
            "NO CUMPLE:  : None\n",
            "¡Pruebas Superadas!\n"
          ],
          "name": "stdout"
        }
      ]
    },
    {
      "cell_type": "markdown",
      "metadata": {
        "id": "EE2yyCJJi3YV"
      },
      "source": [
        ""
      ]
    }
  ]
}