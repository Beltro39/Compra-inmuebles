{
  "nbformat": 4,
  "nbformat_minor": 0,
  "metadata": {
    "colab": {
      "name": "SalazarRuiz_Faiber.ipynb",
      "provenance": []
    },
    "kernelspec": {
      "name": "python3",
      "display_name": "Python 3"
    }
  },
  "cells": [
    {
      "cell_type": "code",
      "metadata": {
        "colab": {
          "base_uri": "https://localhost:8080/"
        },
        "id": "ieU7NFcPK3i6",
        "outputId": "6837b034-58ef-41d0-9f69-4bc3aaeabdc4"
      },
      "source": [
        "def contieneGC(inString):\r\n",
        "  if 'GC' in inString:\r\n",
        "    return 'si'\r\n",
        "  else:\r\n",
        "    return 'no'\r\n",
        "\r\n",
        "print(contieneGC('ATGCATTA'))\r\n",
        "print(contieneGC('ATGACATTA'))\r\n",
        "\r\n",
        "def testContieneGC():\r\n",
        "  testVals = [('ATGCATTA','si'),\r\n",
        "              ('CCCGAGA','no'),\r\n",
        "              ('AGAGAGAAGAAGAGAAA','no'),\r\n",
        "              ('GAGACCCGCC','si'),\r\n",
        "              ('','no'),\r\n",
        "              ('CCCCCCCCGAGTTTT','no'),\r\n",
        "              ]\r\n",
        "  for (inString, esperado) in testVals:\r\n",
        "    respuesta = contieneGC(inString)\r\n",
        "    print(inString, ':',respuesta)\r\n",
        "    assert respuesta == esperado\r\n",
        "  print('¡Pruebas Superadas!')\r\n",
        "\r\n",
        "testContieneGC()"
      ],
      "execution_count": 8,
      "outputs": [
        {
          "output_type": "stream",
          "text": [
            "si\n",
            "no\n",
            "ATGCATTA : si\n",
            "CCCGAGA : no\n",
            "AGAGAGAAGAAGAGAAA : no\n",
            "GAGACCCGCC : si\n",
            " : no\n",
            "CCCCCCCCGAGTTTT : no\n",
            "¡Pruebas Superadas!\n"
          ],
          "name": "stdout"
        }
      ]
    },
    {
      "cell_type": "code",
      "metadata": {
        "colab": {
          "base_uri": "https://localhost:8080/"
        },
        "id": "DYwNGUzFUUw4",
        "outputId": "324ae649-56d8-49e5-fe00-8725bac39d78"
      },
      "source": [
        "def multiplicalos(inString):\r\n",
        "  # separar por espacios\r\n",
        "  numbers = inString.split()\r\n",
        "\r\n",
        "  # convertir a enteros\r\n",
        "  for i in range(len(numbers)):\r\n",
        "    numbers[i] = int(numbers[i])\r\n",
        "  \r\n",
        "  product = 1\r\n",
        "  for num in numbers:\r\n",
        "    product = product * num\r\n",
        "\r\n",
        "  # Convierte el resultado en string\r\n",
        "  productString = str(product)\r\n",
        "  return productString\r\n",
        "\r\n",
        "if (__name__==\"__main__\"):\r\n",
        "  print(multiplicalos(\"1 2 5 10\"))"
      ],
      "execution_count": 14,
      "outputs": [
        {
          "output_type": "stream",
          "text": [
            "100\n"
          ],
          "name": "stdout"
        }
      ]
    },
    {
      "cell_type": "code",
      "metadata": {
        "colab": {
          "base_uri": "https://localhost:8080/",
          "height": 36
        },
        "id": "tGVEWwnQaK4G",
        "outputId": "324a5c63-6098-4181-eaae-32dd6e4bd522"
      },
      "source": [
        "def sumaSegundo(inString):\r\n",
        "  # separar por espacios\r\n",
        "  numbers = inString.split()\r\n",
        "\r\n",
        "  # convertir a enteros\r\n",
        "  for i in range(len(numbers)):\r\n",
        "    numbers[i] = int(numbers[i])\r\n",
        "  \r\n",
        "  sum = 0\r\n",
        "  for i in range(len(numbers)):\r\n",
        "    if (i+1)%2 == 0:\r\n",
        "      sum = sum + numbers[i]\r\n",
        "  \r\n",
        "  # Convierte el resultado en string\r\n",
        "  sumString = str(sum)\r\n",
        "  return sumString\r\n",
        "sumaSegundo(\"58 41 75 3 25 9\")"
      ],
      "execution_count": 24,
      "outputs": [
        {
          "output_type": "execute_result",
          "data": {
            "application/vnd.google.colaboratory.intrinsic+json": {
              "type": "string"
            },
            "text/plain": [
              "'53'"
            ]
          },
          "metadata": {
            "tags": []
          },
          "execution_count": 24
        }
      ]
    },
    {
      "cell_type": "code",
      "metadata": {
        "colab": {
          "base_uri": "https://localhost:8080/",
          "height": 36
        },
        "id": "xh4uS5EOcZHs",
        "outputId": "9ca79d4b-1c20-4452-875a-1f6edeff7a99"
      },
      "source": [
        "def sumaTercero(inString):\r\n",
        "  # separar por espacios\r\n",
        "  numbers = inString.split()\r\n",
        "\r\n",
        "  # convertir a enteros\r\n",
        "  for i in range(len(numbers)):\r\n",
        "    numbers[i] = int(numbers[i])\r\n",
        "  \r\n",
        "  sum = 0\r\n",
        "  for i in range(len(numbers)):\r\n",
        "    if (i+1)%3 == 0:\r\n",
        "      sum = sum + numbers[i]\r\n",
        "  \r\n",
        "  # Convierte el resultado en string\r\n",
        "  sumString = str(sum)\r\n",
        "  return sumString\r\n",
        "sumaTercero(\"58 41 75 3 25 9\")"
      ],
      "execution_count": 23,
      "outputs": [
        {
          "output_type": "execute_result",
          "data": {
            "application/vnd.google.colaboratory.intrinsic+json": {
              "type": "string"
            },
            "text/plain": [
              "'84'"
            ]
          },
          "metadata": {
            "tags": []
          },
          "execution_count": 23
        }
      ]
    },
    {
      "cell_type": "code",
      "metadata": {
        "colab": {
          "base_uri": "https://localhost:8080/"
        },
        "id": "tQeQeqifdSiU",
        "outputId": "5b0fed85-e916-4e04-838e-0116d1e54651"
      },
      "source": [
        "def decision(inString):\r\n",
        "  if (int(sumaTercero(inString)) > int(sumaSegundo(inString))):\r\n",
        "    print ('Si')\r\n",
        "  else:\r\n",
        "    print ('No')\r\n",
        "decision(\"58 41 75 3 25 9\")\r\n",
        "decision(\"58 41 75 3 25 9 1 100\")"
      ],
      "execution_count": 34,
      "outputs": [
        {
          "output_type": "stream",
          "text": [
            "Si\n",
            "No\n"
          ],
          "name": "stdout"
        }
      ]
    }
  ]
}