{
  "nbformat": 4,
  "nbformat_minor": 0,
  "metadata": {
    "colab": {
      "name": "JaramilloHerrera_Cristian.ipynb",
      "provenance": []
    },
    "kernelspec": {
      "name": "python3",
      "display_name": "Python 3"
    }
  },
  "cells": [
    {
      "cell_type": "markdown",
      "metadata": {
        "id": "3NoM0lT2YBVZ"
      },
      "source": [
        "**Primer ejemplo**"
      ]
    },
    {
      "cell_type": "code",
      "metadata": {
        "colab": {
          "base_uri": "https://localhost:8080/"
        },
        "id": "JYYyBKNvJfM7",
        "outputId": "4c1167bc-ddbe-41c3-e84b-c96a19aae2d9"
      },
      "source": [
        "def contieneGC(inString):\r\n",
        "    if 'GC' in inString:\r\n",
        "        return 'si'\r\n",
        "    else:\r\n",
        "        return 'no'\r\n",
        "\r\n",
        "print(contieneGC(\"ATGCATTA\"))\r\n",
        "print(contieneGC(\"ATGACATTA\"))\r\n",
        "\r\n",
        "def testContieneGC():\r\n",
        "  testVals = [('ATGCATTA', 'si'),\r\n",
        "              ('CCCGAGA', 'no'),\r\n",
        "              ('AGAGAGAAGAAGAGAAA', 'no'),\r\n",
        "              ('GAGACCCGCC', 'si'),\r\n",
        "              ('', 'no'),\r\n",
        "              ('CCCCCCCCGAGTTTT', 'no'),\r\n",
        "              ]\r\n",
        "  for (inString, esperado) in testVals:\r\n",
        "      respuesta = contieneGC(inString)\r\n",
        "      print(inString, ':', respuesta)\r\n",
        "      assert respuesta == esperado\r\n",
        "  print(\"¡Pruebas Superadas!\")\r\n",
        "\r\n",
        "testContieneGC()"
      ],
      "execution_count": null,
      "outputs": [
        {
          "output_type": "stream",
          "text": [
            "si\n",
            "no\n",
            "ATGCATTA : si\n",
            "CCCGAGA : no\n",
            "AGAGAGAAGAAGAGAAA : no\n",
            "GAGACCCGCC : si\n",
            " : no\n",
            "CCCCCCCCGAGTTTT : no\n",
            "¡Pruebas Superadas!\n"
          ],
          "name": "stdout"
        }
      ]
    },
    {
      "cell_type": "markdown",
      "metadata": {
        "id": "cXTcUZv3YHKg"
      },
      "source": [
        "**Segundo ejemplo** "
      ]
    },
    {
      "cell_type": "code",
      "metadata": {
        "colab": {
          "base_uri": "https://localhost:8080/"
        },
        "id": "eeQllfMCQFkj",
        "outputId": "74b33c18-9677-414f-f79e-b9f2e18095ea"
      },
      "source": [
        "def multiplicalos(inString):\r\n",
        "    # separar por espacios\r\n",
        "    numbers = inString.split()\r\n",
        "\r\n",
        "    # convertir a enteros\r\n",
        "    for i in range(len(numbers)):\r\n",
        "        numbers[i] = int(numbers[i])\r\n",
        "    \r\n",
        "    product = 1\r\n",
        "    for num in numbers:\r\n",
        "        product = product * num\r\n",
        "    \r\n",
        "    # convierte el resultado en string\r\n",
        "    productString = str(product)\r\n",
        "    return productString\r\n",
        "\r\n",
        "if (__name__ == \"__main__\"):\r\n",
        "  print(multiplicalos(\"1 2 5 10\"))"
      ],
      "execution_count": null,
      "outputs": [
        {
          "output_type": "stream",
          "text": [
            "100\n"
          ],
          "name": "stdout"
        }
      ]
    },
    {
      "cell_type": "markdown",
      "metadata": {
        "id": "rBUOe5H_YOUG"
      },
      "source": [
        "**Ejercicios:**\r\n",
        "(a)"
      ]
    },
    {
      "cell_type": "code",
      "metadata": {
        "colab": {
          "base_uri": "https://localhost:8080/"
        },
        "id": "otc7LXahS25A",
        "outputId": "2d869c0b-3ca4-4541-f598-70d39c921e11"
      },
      "source": [
        "def sumaSegundo(inString):\r\n",
        "  numbers = inString.split()\r\n",
        "\r\n",
        "  for i in range(len(numbers)):\r\n",
        "      numbers[i] = int(numbers[i])\r\n",
        "\r\n",
        "  r2 = 0\r\n",
        "  for i in range(len(numbers)):\r\n",
        "    if i%2 != 0:\r\n",
        "      r2 = r2 + numbers[i]\r\n",
        "\r\n",
        "  sumString = str(r2)\r\n",
        "  return sumString\r\n",
        "\r\n",
        "if (__name__ == \"__main__\"):\r\n",
        "  print(sumaSegundo(\"58 41 78 3 25 9\"))"
      ],
      "execution_count": null,
      "outputs": [
        {
          "output_type": "stream",
          "text": [
            "53\n"
          ],
          "name": "stdout"
        }
      ]
    },
    {
      "cell_type": "markdown",
      "metadata": {
        "id": "bhKe4NwrYVpp"
      },
      "source": [
        "**Ejercicios:**\r\n",
        "(b)"
      ]
    },
    {
      "cell_type": "code",
      "metadata": {
        "colab": {
          "base_uri": "https://localhost:8080/"
        },
        "id": "8caB-Op5YbZo",
        "outputId": "b9042e73-a64b-4810-c3cb-10af22cb19fe"
      },
      "source": [
        "def sumaTercero(inString):\r\n",
        "  numbers = inString.split()\r\n",
        "\r\n",
        "  for i in range(len(numbers)):\r\n",
        "      numbers[i] = int(numbers[i])\r\n",
        "\r\n",
        "  r3 = 0\r\n",
        "  for i in range(0,len(numbers),3):\r\n",
        "    if i != 0:\r\n",
        "      r3 = r3 + numbers[i]\r\n",
        "\r\n",
        "  sumString = str(r3)\r\n",
        "  return sumString\r\n",
        "\r\n",
        "if (__name__ == \"__main__\"):\r\n",
        "  print(sumaTercero(\"58 41 78 3 25 9\"))"
      ],
      "execution_count": null,
      "outputs": [
        {
          "output_type": "stream",
          "text": [
            "3\n"
          ],
          "name": "stdout"
        }
      ]
    },
    {
      "cell_type": "markdown",
      "metadata": {
        "id": "ll3xzSAQhwSS"
      },
      "source": [
        "**Ejercicios:**\r\n",
        "(c)"
      ]
    },
    {
      "cell_type": "code",
      "metadata": {
        "colab": {
          "base_uri": "https://localhost:8080/"
        },
        "id": "rJRwtv8he4FD",
        "outputId": "839f29f6-de7e-417f-b9a6-a47028f33f10"
      },
      "source": [
        "def decision(inString):\r\n",
        "  numbers = inString.split()\r\n",
        "\r\n",
        "  for i in range(len(numbers)):\r\n",
        "      numbers[i] = int(numbers[i])\r\n",
        "\r\n",
        "  r2 = 0\r\n",
        "  for i in range(0,len(numbers)):\r\n",
        "    if i%2 != 0:\r\n",
        "      r2 = r2 + numbers[i]\r\n",
        "\r\n",
        "  r3 = 0\r\n",
        "  i = 0\r\n",
        "  l = len(numbers)\r\n",
        "  while i < l:\r\n",
        "      if i == 0:\r\n",
        "          i=2\r\n",
        "          r3 = r3 + numbers[i]\r\n",
        "      elif i+3 < l:\r\n",
        "          i = i + 3\r\n",
        "          r3 = r3 + numbers[i]\r\n",
        "      else:\r\n",
        "          i += 1\r\n",
        "  \r\n",
        "  if r3 > r2:\r\n",
        "    return \"Sí\"\r\n",
        "  else:\r\n",
        "    return \"No\"\r\n",
        "\r\n",
        "if (__name__ == \"__main__\"):\r\n",
        "  print(decision(\"58 41 78 3 25 9\"))\r\n",
        "  print(decision(\"58 100 20 25 04 10\"))"
      ],
      "execution_count": 72,
      "outputs": [
        {
          "output_type": "stream",
          "text": [
            "Sí\n",
            "No\n"
          ],
          "name": "stdout"
        }
      ]
    }
  ]
}