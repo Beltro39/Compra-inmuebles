{
  "nbformat": 4,
  "nbformat_minor": 0,
  "metadata": {
    "colab": {
      "name": "VivasMejia_LuisaFernanda.ipynb",
      "provenance": [],
      "collapsed_sections": []
    },
    "kernelspec": {
      "name": "python3",
      "display_name": "Python 3"
    }
  },
  "cells": [
    {
      "cell_type": "code",
      "metadata": {
        "colab": {
          "base_uri": "https://localhost:8080/"
        },
        "id": "10lURvYGFQBx",
        "outputId": "fea422d0-7d8b-4aa6-bc45-9ba536b3739c"
      },
      "source": [
        "##SISO = StrIN StrOut\r\n",
        "def contieneGC(inString):\r\n",
        "  if 'GC' in inString:\r\n",
        "    return 'si'\r\n",
        "  else:\r\n",
        "    return 'no'\r\n",
        "\r\n",
        "print(contieneGC(\"ATGCATTA\"))\r\n",
        "print(contieneGC(\"ATGACATTA\"))\r\n",
        "\r\n",
        "def testContieneGC():\r\n",
        "  testVals = [('ATGCATTA', 'si'),('CCCGAGA', 'no'),('AGAGAGAAGAAGAGAAA','no'),('GAGACCCGCC','si'),('', 'no'), ('CCCCCCCCGAGTTTT','no'),]\r\n",
        "  for (inString, esperado) in testVals:\r\n",
        "    respuesta = contieneGC(inString)\r\n",
        "    print(inString,':', respuesta)\r\n",
        "    assert respuesta == esperado\r\n",
        "  print(\"¡Pruebas Superadas!\")\r\n",
        "testContieneGC()"
      ],
      "execution_count": 5,
      "outputs": [
        {
          "output_type": "stream",
          "text": [
            "si\n",
            "no\n",
            "ATGCATTA : si\n",
            "CCCGAGA : no\n",
            "AGAGAGAAGAAGAGAAA : no\n",
            "GAGACCCGCC : si\n",
            " : no\n",
            "CCCCCCCCGAGTTTT : no\n",
            "¡Pruebas Superadas!\n"
          ],
          "name": "stdout"
        }
      ]
    },
    {
      "cell_type": "code",
      "metadata": {
        "colab": {
          "base_uri": "https://localhost:8080/"
        },
        "id": "u5gXfhWNMSgp",
        "outputId": "f667b3da-a1f0-4ce3-e562-12cad4d06920"
      },
      "source": [
        "def multiplicalos(inString):\r\n",
        "  numbers = inString.split()\r\n",
        "  for i in range(len(numbers)):\r\n",
        "    numbers[i] = int(numbers[i])\r\n",
        "    product = 1\r\n",
        "  for num in numbers:\r\n",
        "    product = product * num\r\n",
        "  \r\n",
        "  productString = str(product)\r\n",
        "  return productString\r\n",
        "\r\n",
        "if (__name__==\"__main__\"):\r\n",
        "  print(multiplicalos(\"1 2 5 10\"))"
      ],
      "execution_count": 8,
      "outputs": [
        {
          "output_type": "stream",
          "text": [
            "100\n"
          ],
          "name": "stdout"
        }
      ]
    },
    {
      "cell_type": "code",
      "metadata": {
        "colab": {
          "base_uri": "https://localhost:8080/"
        },
        "id": "gBC6kSfSLK3r",
        "outputId": "f19802b6-fcc5-4afc-fb46-8f16a0d99bc1"
      },
      "source": [
        "def sumaSegundo (inString):\r\n",
        "\tinList = inString.strip ().split ()\r\n",
        "\tprint (inList)\r\n",
        "\tsuma = 0\r\n",
        "\r\n",
        "\tfor pos in range (1, len (inList), 2):\r\n",
        "\t\tsuma = suma + int (inList[pos])\r\n",
        "\tprint (suma)\r\n",
        "\treturn suma\r\n",
        "\r\n",
        "def sumaTercero (inString):\r\n",
        "\tinList = inString.strip ().split ()\r\n",
        "\tprint (inList)\r\n",
        "\tsuma = 0\r\n",
        "\tfor pos in range (2, len (inList), 3):\r\n",
        "\t\tsuma = suma + int (inList[pos])\r\n",
        "\tprint (suma)\r\n",
        "\treturn suma\r\n",
        "\r\n",
        "def funcionDecision (inString):\r\n",
        "\tsumaSegundoElemento = sumaSegundo (inString)\r\n",
        "\tsumaTerceroElemento = sumaTercero (inString)\r\n",
        "\tif (sumaTerceroElemento > sumaSegundoElemento):\r\n",
        "\t\tprint (\"Si\")\r\n",
        "\telse:\r\n",
        "\t\tprint (\"No\")\r\n",
        "  \r\n",
        "\r\n",
        "sumaSegundo (\"58 41 78 4 25 9\")\r\n",
        "sumaSegundo (\"58 41 78 3 25 9\")\r\n",
        "sumaSegundo (\"58 41 78 3 25 9 10\")\r\n",
        "\r\n",
        "sumaTercero (\"58 41 78 3 25 9\")\r\n",
        "sumaTercero (\"58 41 78 3 25 9 10\")\r\n",
        "sumaTercero (\"58 41 78 3 25 9 12 11 10\")\r\n",
        "\r\n",
        "funcionDecision (\"58 41 78 3 25 9\")\r\n",
        "funcionDecision (\"58 41 78 3 25 9 10\")\r\n",
        "funcionDecision (\"58 41 78 3 25 9 12 11 10\")\r\n",
        "funcionDecision (\"58 41 78 3 25 9 12 11 -100\")"
      ],
      "execution_count": 7,
      "outputs": [
        {
          "output_type": "stream",
          "text": [
            "['58', '41', '78', '4', '25', '9']\n",
            "54\n",
            "['58', '41', '78', '3', '25', '9']\n",
            "53\n",
            "['58', '41', '78', '3', '25', '9', '10']\n",
            "53\n",
            "['58', '41', '78', '3', '25', '9']\n",
            "87\n",
            "['58', '41', '78', '3', '25', '9', '10']\n",
            "87\n",
            "['58', '41', '78', '3', '25', '9', '12', '11', '10']\n",
            "97\n",
            "['58', '41', '78', '3', '25', '9']\n",
            "53\n",
            "['58', '41', '78', '3', '25', '9']\n",
            "87\n",
            "Si\n",
            "['58', '41', '78', '3', '25', '9', '10']\n",
            "53\n",
            "['58', '41', '78', '3', '25', '9', '10']\n",
            "87\n",
            "Si\n",
            "['58', '41', '78', '3', '25', '9', '12', '11', '10']\n",
            "64\n",
            "['58', '41', '78', '3', '25', '9', '12', '11', '10']\n",
            "97\n",
            "Si\n",
            "['58', '41', '78', '3', '25', '9', '12', '11', '-100']\n",
            "64\n",
            "['58', '41', '78', '3', '25', '9', '12', '11', '-100']\n",
            "-13\n",
            "No\n"
          ],
          "name": "stdout"
        }
      ]
    }
  ]
}