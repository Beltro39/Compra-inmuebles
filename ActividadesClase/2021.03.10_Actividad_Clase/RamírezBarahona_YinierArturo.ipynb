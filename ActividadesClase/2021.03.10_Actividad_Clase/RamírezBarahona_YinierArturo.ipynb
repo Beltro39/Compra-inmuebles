{
  "nbformat": 4,
  "nbformat_minor": 0,
  "metadata": {
    "colab": {
      "name": "RamírezBarahona_YinierArturo.ipynb",
      "provenance": []
    },
    "kernelspec": {
      "name": "python3",
      "display_name": "Python 3"
    }
  },
  "cells": [
    {
      "cell_type": "code",
      "metadata": {
        "colab": {
          "base_uri": "https://localhost:8080/"
        },
        "id": "GhhYyuACKpxf",
        "outputId": "90708dea-1342-4185-ae73-9f2a352ce4f6"
      },
      "source": [
        "#Ejemplo 1\r\n",
        "def contieneGC(inString):\r\n",
        "  if 'GC' in inString:\r\n",
        "    return 'si'\r\n",
        "  else:\r\n",
        "    return 'no'\r\n",
        "\r\n",
        "print(contieneGC(\"ATGCATTA\"))\r\n",
        "print(contieneGC(\"ATGACATTA\"))\r\n",
        "\r\n",
        "def testContieneGC():\r\n",
        "  testVals = [('ATGCATTA', 'si'),\r\n",
        "              ('CCCGAGA', 'no'),\r\n",
        "              ('AGAGAGAAGAAGAGAAA', 'no'),\r\n",
        "              ('GAGACCCGCC', 'si'),\r\n",
        "              ('', 'no'),\r\n",
        "              ('CCCCCCCCGAGTTTT', 'no'),\r\n",
        "              ]\r\n",
        "  for (inString, esperado) in testVals:\r\n",
        "    respuesta = contieneGC(inString)\r\n",
        "    print(inString, ':', respuesta)\r\n",
        "    assert respuesta == esperado\r\n",
        "  print (\"¡PRUEBAS SUPERADAS!\")\r\n",
        "testContieneGC()                "
      ],
      "execution_count": 6,
      "outputs": [
        {
          "output_type": "stream",
          "text": [
            "si\n",
            "no\n",
            "ATGCATTA : si\n",
            "CCCGAGA : no\n",
            "AGAGAGAAGAAGAGAAA : no\n",
            "GAGACCCGCC : si\n",
            " : no\n",
            "CCCCCCCCGAGTTTT : no\n",
            "¡PRUEBAS SUPERADAS!\n"
          ],
          "name": "stdout"
        }
      ]
    },
    {
      "cell_type": "code",
      "metadata": {
        "colab": {
          "base_uri": "https://localhost:8080/"
        },
        "id": "xl0dHByiLSkz",
        "outputId": "d74a451d-aec0-44e9-f35b-6d163d88b110"
      },
      "source": [
        "#Ejemplo 2\r\n",
        "def multiplicalos(inString):\r\n",
        "  #Sep por espacios\r\n",
        "  numbers = inString.split()\r\n",
        "\r\n",
        "  #conv a enteros\r\n",
        "  for i in range(len(numbers)):\r\n",
        "    numbers[i]=int(numbers[i])\r\n",
        "\r\n",
        "\r\n",
        "  product = 1\r\n",
        "  for num in numbers:\r\n",
        "    product = product * num\r\n",
        "  \r\n",
        "   #Conv el resultado en string\r\n",
        "  productString = str(product)\r\n",
        "  return productString\r\n",
        "\r\n",
        "if (__name__==\"__main__\"):\r\n",
        "  print(multiplicalos(\"1 2 5 10\"))    \r\n"
      ],
      "execution_count": 15,
      "outputs": [
        {
          "output_type": "stream",
          "text": [
            "100\n"
          ],
          "name": "stdout"
        }
      ]
    },
    {
      "cell_type": "markdown",
      "metadata": {
        "id": "6_tKiS7oarmh"
      },
      "source": [
        "**Ejercicios propuestos**"
      ]
    },
    {
      "cell_type": "code",
      "metadata": {
        "colab": {
          "base_uri": "https://localhost:8080/"
        },
        "id": "U2IZnRBbauX1",
        "outputId": "abc25f91-72ac-402c-82b6-371ab1a20cb0"
      },
      "source": [
        "#Ejercicio a\r\n",
        "def sumaSegundo(inString):\r\n",
        "  #Sep por espacios\r\n",
        "  numbers = inString.split()\r\n",
        "\r\n",
        "  #conv a enteros\r\n",
        "  for i in range(len(numbers)):\r\n",
        "    numbers[i]=int(numbers[i])\r\n",
        "\r\n",
        "\r\n",
        "  contador = 0\r\n",
        "  for num in range(1,len(numbers),2):\r\n",
        "    contador = contador + numbers[num]\r\n",
        "\r\n",
        "  \r\n",
        "   #Conv el resultado en string\r\n",
        "  contadorString = str(contador)\r\n",
        "  return contadorString\r\n",
        "\r\n",
        "\r\n",
        "if (__name__==\"__main__\"):\r\n",
        "  print(sumaSegundo(\"58 41 78 3 25 9\"))\r\n",
        "  print(sumaSegundo(\"58 5 78 5 25 5\"))\r\n",
        "  print(sumaSegundo(\"2 0 99 5 6 9 8 7\"))"
      ],
      "execution_count": 60,
      "outputs": [
        {
          "output_type": "stream",
          "text": [
            "53\n",
            "15\n",
            "21\n"
          ],
          "name": "stdout"
        }
      ]
    },
    {
      "cell_type": "code",
      "metadata": {
        "colab": {
          "base_uri": "https://localhost:8080/"
        },
        "id": "qQWz1GffefcW",
        "outputId": "2f859319-a3fb-4745-9d43-6b7eb97b1d9f"
      },
      "source": [
        "#Ejercicio b\r\n",
        "def sumaTercero(inString):\r\n",
        "  #Sep por espacios\r\n",
        "  numbers = inString.split()\r\n",
        "\r\n",
        "  #conv a enteros\r\n",
        "  for i in range(len(numbers)):\r\n",
        "    numbers[i]=int(numbers[i])\r\n",
        "\r\n",
        "\r\n",
        "  contador = 0\r\n",
        "  for num in range(2,len(numbers),3):\r\n",
        "    contador = contador + numbers[num]\r\n",
        "\r\n",
        "  \r\n",
        "   #Conv el resultado en string\r\n",
        "  contadorString = str(contador)\r\n",
        "  return contadorString\r\n",
        "\r\n",
        "\r\n",
        "if (__name__==\"__main__\"):\r\n",
        "  print(sumaTercero(\"58 41 78 3 25 9\"))\r\n",
        "  print(sumaTercero(\"58 5 1 5 25 1 0 0 100\"))\r\n",
        "  print(sumaTercero(\"2 0 99 5 6 9 8 7\"))"
      ],
      "execution_count": 61,
      "outputs": [
        {
          "output_type": "stream",
          "text": [
            "87\n",
            "102\n",
            "108\n"
          ],
          "name": "stdout"
        }
      ]
    },
    {
      "cell_type": "code",
      "metadata": {
        "colab": {
          "base_uri": "https://localhost:8080/"
        },
        "id": "2BEq1TJweZoo",
        "outputId": "58c1b10a-248a-4798-c5e8-ce526a740abe"
      },
      "source": [
        "#Ejercicio c\r\n",
        "def mayorque(inString):\r\n",
        "  tres= sumaTercero(inString)\r\n",
        "  dos= sumaSegundo(inString)\r\n",
        "  aux2= int(dos)\r\n",
        "  aux3= int(tres)\r\n",
        "  if aux3>aux2:\r\n",
        "    return 'si'\r\n",
        "  else:\r\n",
        "    return 'no'\r\n",
        "\r\n",
        "print(mayorque(\"2 0 99 5 6 9 8 7\"))\r\n",
        "print(mayorque(\"2 30 1 5 6 9 8 7\"))"
      ],
      "execution_count": 68,
      "outputs": [
        {
          "output_type": "stream",
          "text": [
            "si\n",
            "no\n"
          ],
          "name": "stdout"
        }
      ]
    }
  ]
}