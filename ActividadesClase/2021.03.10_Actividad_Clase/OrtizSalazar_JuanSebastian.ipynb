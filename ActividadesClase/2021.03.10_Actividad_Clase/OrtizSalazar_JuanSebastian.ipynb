{
  "nbformat": 4,
  "nbformat_minor": 0,
  "metadata": {
    "colab": {
      "name": "OrtizSalazar_JuanSebastian.ipynb",
      "provenance": [],
      "collapsed_sections": []
    },
    "kernelspec": {
      "name": "python3",
      "display_name": "Python 3"
    }
  },
  "cells": [
    {
      "cell_type": "markdown",
      "metadata": {
        "id": "V2seFOK7NFYO"
      },
      "source": [
        "**ACTIVIDAD** **1**"
      ]
    },
    {
      "cell_type": "markdown",
      "metadata": {
        "id": "zR6mA8j0XzZ0"
      },
      "source": [
        "**Primero**"
      ]
    },
    {
      "cell_type": "code",
      "metadata": {
        "colab": {
          "base_uri": "https://localhost:8080/"
        },
        "id": "PHi362l5Uvxz",
        "outputId": "912ac421-426c-435f-c18a-68998c2d4790"
      },
      "source": [
        "def contieneGC(inString):\r\n",
        "  if 'GC' in inString:\r\n",
        "    return 'si'\r\n",
        "  else:\r\n",
        "    return 'no'\r\n",
        "\r\n",
        "print(contieneGC('ATGCATTA'))\r\n",
        "print(contieneGC('ATGACATTA'))\r\n",
        "\r\n",
        "def testContieneGC():\r\n",
        "  testVals = [('ATGCATTA','si'),\r\n",
        "              ('CCCGAGA','no'),\r\n",
        "              ('AGAGAGAAGAAGAGAAA','no'),\r\n",
        "              ('GAGACCCGCC','si'),\r\n",
        "              ('','no'),\r\n",
        "              ('CCCCCCCCGAGTTTT','no'),\r\n",
        "              ]\r\n",
        "  for (inString, esperado) in testVals:\r\n",
        "    respuesta = contieneGC(inString)\r\n",
        "    print(inString, ':', respuesta)\r\n",
        "    assert respuesta == esperado\r\n",
        "  print(\"Pruebas Superadas!\")\r\n",
        "\r\n",
        "testContieneGC()"
      ],
      "execution_count": null,
      "outputs": [
        {
          "output_type": "stream",
          "text": [
            "si\n",
            "no\n",
            "ATGCATTA : si\n",
            "CCCGAGA : no\n",
            "AGAGAGAAGAAGAGAAA : no\n",
            "GAGACCCGCC : si\n",
            " : no\n",
            "CCCCCCCCGAGTTTT : no\n",
            "Pruebas Superadas!\n"
          ],
          "name": "stdout"
        }
      ]
    },
    {
      "cell_type": "markdown",
      "metadata": {
        "id": "NTy4D7yoXxgl"
      },
      "source": [
        "**Segundo**"
      ]
    },
    {
      "cell_type": "code",
      "metadata": {
        "colab": {
          "base_uri": "https://localhost:8080/"
        },
        "id": "HItShdUCUz54",
        "outputId": "277e720e-670b-4422-fff9-27ab909fc511"
      },
      "source": [
        "def multiplicalos(inString):\r\n",
        "  numbers = inString.split()\r\n",
        "\r\n",
        "  for i in range(len(numbers)):\r\n",
        "    numbers[i] = int(numbers[i])\r\n",
        "    \r\n",
        "  product = 1\r\n",
        "  for num in numbers:\r\n",
        "    product = product * num\r\n",
        "  \r\n",
        "  productString = str(product)\r\n",
        "  return productString\r\n",
        "\r\n",
        "if (__name__==\"__main__\"):\r\n",
        "  print(multiplicalos(\"1 2 5 10\"))"
      ],
      "execution_count": null,
      "outputs": [
        {
          "output_type": "stream",
          "text": [
            "100\n"
          ],
          "name": "stdout"
        }
      ]
    },
    {
      "cell_type": "markdown",
      "metadata": {
        "id": "LLYptrN7a73U"
      },
      "source": [
        "**E** **J** **E** **R** **C** **I** **C** **I** **O** **S** "
      ]
    },
    {
      "cell_type": "markdown",
      "metadata": {
        "id": "pEkzmGQee0TD"
      },
      "source": [
        "**Primero**"
      ]
    },
    {
      "cell_type": "code",
      "metadata": {
        "colab": {
          "base_uri": "https://localhost:8080/"
        },
        "id": "F_gOSDcWa5PJ",
        "outputId": "61543677-15f1-438d-ac83-334f9698e7a9"
      },
      "source": [
        "def sumaSegundo(inString):\r\n",
        "  numeros = inString.split()\r\n",
        "\r\n",
        "  for i in range(len(numeros)):\r\n",
        "    numeros[i] = int(numeros[i])\r\n",
        "  sum = 0\r\n",
        "  for j in numeros:\r\n",
        "    if numeros.index(j) % 2 == 0:\r\n",
        "      sum = sum + 0\r\n",
        "    else:\r\n",
        "      sum = sum + j\r\n",
        "  sumaString = str(sum)\r\n",
        "  return sumaString\r\n",
        "\r\n",
        "if (__name__==\"__main__\"):\r\n",
        "  print(sumaSegundo(\"58 41 78 3 25 9\"))"
      ],
      "execution_count": null,
      "outputs": [
        {
          "output_type": "stream",
          "text": [
            "53\n"
          ],
          "name": "stdout"
        }
      ]
    },
    {
      "cell_type": "markdown",
      "metadata": {
        "id": "6WYrxD8TezPx"
      },
      "source": [
        "**Segundo**"
      ]
    },
    {
      "cell_type": "code",
      "metadata": {
        "colab": {
          "base_uri": "https://localhost:8080/"
        },
        "id": "bOw7XhLee8cb",
        "outputId": "99472d3f-1bc1-4bfb-dcfc-f9dd1fa6624c"
      },
      "source": [
        "def sumaTercero(inString):\r\n",
        "  numeros = inString.split()\r\n",
        "  sum = 0\r\n",
        "  lis = []\r\n",
        "  for i in range(1,len(numeros)+1):\r\n",
        "    if i % 3 == 0:\r\n",
        "      lis.append(i)\r\n",
        "  for i in range(len(numeros)+1):\r\n",
        "    if i in lis:\r\n",
        "      sum += int(numeros[i-1])\r\n",
        "  return str(sum)\r\n",
        "\r\n",
        "print(sumaTercero(\"58 41 78 3 25 9\"))"
      ],
      "execution_count": 2,
      "outputs": [
        {
          "output_type": "stream",
          "text": [
            "87\n"
          ],
          "name": "stdout"
        }
      ]
    },
    {
      "cell_type": "markdown",
      "metadata": {
        "id": "Mi9o5ztXIcgR"
      },
      "source": [
        "**Tercero**"
      ]
    },
    {
      "cell_type": "code",
      "metadata": {
        "colab": {
          "base_uri": "https://localhost:8080/"
        },
        "id": "gdOZi4zAIhe9",
        "outputId": "80ff173b-c356-4747-ea9b-cb7feebdf115"
      },
      "source": [
        "def Comparacion(inString):\r\n",
        "  if int(sumaSegundo(inString)) < int(sumaTercero(inString)):\r\n",
        "    return \"si\"\r\n",
        "  else:\r\n",
        "    return \"no\"\r\n",
        "\r\n",
        "print(Comparacion(\"58 41 78 3 25 9\"))\r\n",
        "print(Comparacion(\"58 41 1 3 25 9\"))"
      ],
      "execution_count": 8,
      "outputs": [
        {
          "output_type": "stream",
          "text": [
            "si\n",
            "no\n"
          ],
          "name": "stdout"
        }
      ]
    }
  ]
}