{
  "nbformat": 4,
  "nbformat_minor": 0,
  "metadata": {
    "colab": {
      "name": "SalazarRuiz_Faiber.ipynb",
      "provenance": [],
      "collapsed_sections": []
    },
    "kernelspec": {
      "name": "python3",
      "display_name": "Python 3"
    }
  },
  "cells": [
    {
      "cell_type": "code",
      "metadata": {
        "id": "2j-t0G_I_oh5",
        "colab": {
          "base_uri": "https://localhost:8080/"
        },
        "outputId": "ccbcccef-7dd8-43b8-bb2f-2ea37fa42f20"
      },
      "source": [
        "import re\n",
        "\n",
        "miPatron1 = re.compile(r'\\btres\\b')\n",
        "\n",
        "texto = \"\"\"tres tristes Tigres comían Trigo en tres Tristes Platos\"\"\"\n",
        "\n",
        "print(\"Uso de Split - separar por 'tres'\")\n",
        "print(miPatron1.split(texto))\n",
        "\n",
        "print(\"Uso de Split - separar por las palabras que comienzan en Mayuscula\")\n",
        "miPatron2 = re.compile(r'\\b[A-Z]\\w*\\b')\n",
        "print(miPatron2.split(texto))\n",
        "\n",
        "print(\"Uso de Sub - Cambiar Triste por Alegre\")\n",
        "miPatron3 = re.compile(r'\\b(T|t)riste')\n",
        "texto2 = miPatron3.sub(\"Alegre\",texto)\n",
        "print(texto2)\n",
        "\n",
        "print(\"Extraer todas las palabras que comienzan por Tr o tr\")\n",
        "print(re.findall(r'\\b[T|t]r\\w*',texto))"
      ],
      "execution_count": 1,
      "outputs": [
        {
          "output_type": "stream",
          "text": [
            "Uso de Split - separar por 'tres'\n",
            "['', ' tristes Tigres comían Trigo en ', ' Tristes Platos']\n",
            "Uso de Split - separar por las palabras que comienzan en Mayuscula\n",
            "['tres tristes ', ' comían ', ' en tres ', ' ', '']\n",
            "Uso de Sub - Cambiar Triste por Alegre\n",
            "tres Alegres Tigres comían Trigo en tres Alegres Platos\n",
            "Extraer todas las palabras que comienzan por Tr o tr\n",
            "['tres', 'tristes', 'Trigo', 'tres', 'Tristes']\n"
          ],
          "name": "stdout"
        }
      ]
    },
    {
      "cell_type": "code",
      "metadata": {
        "colab": {
          "base_uri": "https://localhost:8080/"
        },
        "id": "ug4rlpiNg4Up",
        "outputId": "d6fa6e3a-fb05-4f53-e231-85303501ab1e"
      },
      "source": [
        "%%writefile universal.py\n",
        "import re\n",
        "\n",
        "def universal(progString, inString):\n",
        "  \n",
        "  exec(progString)\n",
        "\n",
        "  localVars = locals()\n",
        "  nombreFnPrincipal = getNombreFnPrincipal(progString)\n",
        "\n",
        "  if nombreFnPrincipal in localVars:\n",
        "    fnPrincipal = localVars[nombreFnPrincipal]\n",
        "  else:\n",
        "    raise Exception(f'La funcion {nombreFnPrincipal} lamentablemente no se ha definido :(')\n",
        "  \n",
        "  return fnPrincipal(inString)\n",
        "\n",
        "def getNombreFnPrincipal(progString):\n",
        "\n",
        "  expresionRegular = r'^def\\s+([a-zA-Z0-9_]*)'\n",
        "  coincidencias = re.search(expresionRegular, progString, re.MULTILINE)\n",
        "\n",
        "  if coincidencias:\n",
        "    return coincidencias.group(1)\n",
        "  else:\n",
        "    return ''"
      ],
      "execution_count": 2,
      "outputs": [
        {
          "output_type": "stream",
          "text": [
            "Writing universal.py\n"
          ],
          "name": "stdout"
        }
      ]
    },
    {
      "cell_type": "code",
      "metadata": {
        "colab": {
          "base_uri": "https://localhost:8080/"
        },
        "id": "L_OiocUJiPn7",
        "outputId": "bf1f4aff-8f42-40b7-fa9d-5eb0dc1aff14"
      },
      "source": [
        "%%writefile containsWeak.py\n",
        "\n",
        "def containsWeak(inString):\n",
        "  if 'AT' in inString:\n",
        "    return 'yes'\n",
        "  else: \n",
        "    return 'no'"
      ],
      "execution_count": 3,
      "outputs": [
        {
          "output_type": "stream",
          "text": [
            "Writing containsWeak.py\n"
          ],
          "name": "stdout"
        }
      ]
    },
    {
      "cell_type": "code",
      "metadata": {
        "colab": {
          "base_uri": "https://localhost:8080/"
        },
        "id": "mn2AxZ42iUSy",
        "outputId": "1064e1b4-9ced-470b-ab67-dd0925703d3e"
      },
      "source": [
        "import os\n",
        "from universal import *\n",
        "\n",
        "print(os.getcwd())\n",
        "\n",
        "os.chdir(\"/content\")\n",
        "\n",
        "codigo = open(\"containsWeak.py\").read()\n",
        "respuesta = universal(codigo, 'GTTGATGA')\n",
        "print(respuesta)"
      ],
      "execution_count": 4,
      "outputs": [
        {
          "output_type": "stream",
          "text": [
            "/content\n",
            "yes\n"
          ],
          "name": "stdout"
        }
      ]
    },
    {
      "cell_type": "markdown",
      "metadata": {
        "id": "xJGtGdlwi4ke"
      },
      "source": [
        "### Regex"
      ]
    },
    {
      "cell_type": "markdown",
      "metadata": {
        "id": "jwOljfCnjcG7"
      },
      "source": [
        "(CRA\\.|CALLE)\\s\\d{1,3}\\w*\\s(No|NRO)\\.*\\s\\d{1,3}\\s*\\w*\\-*\\s*\\d{1,3}.*"
      ]
    }
  ]
}
