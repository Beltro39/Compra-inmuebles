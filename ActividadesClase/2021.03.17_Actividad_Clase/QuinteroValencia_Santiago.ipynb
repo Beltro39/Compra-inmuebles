{
  "nbformat": 4,
  "nbformat_minor": 0,
  "metadata": {
    "colab": {
      "name": "QuinteroValencia_Santiago.ipynb",
      "provenance": []
    },
    "kernelspec": {
      "name": "python3",
      "display_name": "Python 3"
    },
    "language_info": {
      "name": "python"
    }
  },
  "cells": [
    {
      "cell_type": "code",
      "metadata": {
        "colab": {
          "base_uri": "https://localhost:8080/"
        },
        "id": "3yoR8rVemVCg",
        "outputId": "2dd61d08-37e1-45ca-bc67-7b18f38972f2"
      },
      "source": [
        "import re\n",
        "miPatron1 = re.compile(r'\\btres\\b')\n",
        "texto = \"\"\"tres tristes Tigres comian Trigo en tres Tristes Platos\"\"\"\n",
        "print(\"Uso de Split - separar por 'tres'\")\n",
        "print(miPatron1.split(texto))\n",
        "print(\"Uso de Split - separar por las palabras que comienzan en Mayúsculas\")\n",
        "miPatron2 = re.compile(r'\\b[A-Z]\\w*\\b')\n",
        "print(miPatron2.split(texto))\n",
        "print(\"Uso de Sub - Cambiar Tristes por Alegre\")\n",
        "miPatron3 = re.compile(r'\\b(T|t)riste')\n",
        "texto2 = miPatron3.sub(\"Alegre\",texto)\n",
        "print(texto2)\n",
        "print(\"Extraer todass las palabrass que comienzan por Tr o tr\")\n",
        "print(re.findall(r'\\b[T|t]r\\w*',texto))"
      ],
      "execution_count": 1,
      "outputs": [
        {
          "output_type": "stream",
          "text": [
            "Uso de Split - separar por 'tres'\n",
            "['', ' tristes Tigres comian Trigo en ', ' Tristes Platos']\n",
            "Uso de Split - separar por las palabras que comienzan en Mayúsculas\n",
            "['tres tristes ', ' comian ', ' en tres ', ' ', '']\n",
            "Uso de Sub - Cambiar Tristes por Alegre\n",
            "tres Alegres Tigres comian Trigo en tres Alegres Platos\n",
            "Extraer todass las palabrass que comienzan por Tr o tr\n",
            "['tres', 'tristes', 'Trigo', 'tres', 'Tristes']\n"
          ],
          "name": "stdout"
        }
      ]
    },
    {
      "cell_type": "code",
      "metadata": {
        "colab": {
          "base_uri": "https://localhost:8080/"
        },
        "id": "WZEG8zXFp7rD",
        "outputId": "2f1a2068-fb26-411c-95f7-d5aef0812839"
      },
      "source": [
        "%%writefile containsWeak.py\n",
        "def containsWeak(inString):\n",
        "  if 'AT' in inString:\n",
        "    return 'yes'\n",
        "  else:\n",
        "    return 'no'\n"
      ],
      "execution_count": 2,
      "outputs": [
        {
          "output_type": "stream",
          "text": [
            "Writing containsWeak.py\n"
          ],
          "name": "stdout"
        }
      ]
    },
    {
      "cell_type": "code",
      "metadata": {
        "colab": {
          "base_uri": "https://localhost:8080/"
        },
        "id": "sOQTow-gneEQ",
        "outputId": "29524345-9bb9-485f-9d44-cfc9ffca3b00"
      },
      "source": [
        "%%writefile universal.py\n",
        "import re\n",
        "def universal(progString,inString):\n",
        "  exec(progString)\n",
        "  localVars = locals()\n",
        "  nombreFnPrincipal = getNombreFnPrincipal(progString)\n",
        "\n",
        "  if nombreFnPrincipal in localVars:\n",
        "    fnPrincipal = localVars[nombreFnPrincipal]\n",
        "  else:\n",
        "    raise Exception('La función '+nombreFnPrincipal+' lamentablemente no se ha definido:(')\n",
        "  return fnPrincipal\n",
        "\n",
        "def getNombreFnPrincipal(progString):\n",
        "  expresionRegular = r'^def\\s+([a-zA-Z0-9_]*)'\n",
        "  coincidencias = re.search(expresionRegular,progString,re.MULTILINE)\n",
        "\n",
        "  if coincidencias:\n",
        "    return coincidencias.group(1)\n",
        "  else:\n",
        "    return ''"
      ],
      "execution_count": 3,
      "outputs": [
        {
          "output_type": "stream",
          "text": [
            "Writing universal.py\n"
          ],
          "name": "stdout"
        }
      ]
    },
    {
      "cell_type": "code",
      "metadata": {
        "colab": {
          "base_uri": "https://localhost:8080/"
        },
        "id": "5kBIaXWWt8Re",
        "outputId": "4993d3b9-e9c5-49b3-b47a-e70dc4f181f2"
      },
      "source": [
        "import os\n",
        "\n",
        "print(os.getcwd())"
      ],
      "execution_count": 4,
      "outputs": [
        {
          "output_type": "stream",
          "text": [
            "/content\n"
          ],
          "name": "stdout"
        }
      ]
    },
    {
      "cell_type": "code",
      "metadata": {
        "colab": {
          "base_uri": "https://localhost:8080/"
        },
        "id": "cAt2FcWZn11f",
        "outputId": "6734dcdf-dd29-491b-e302-a024e0f777ad"
      },
      "source": [
        "from universal import *\n",
        "\n",
        "codigo = open(\"containsWeak.py\").read()\n",
        "respuesta = universal(codigo,\"GTTGATGA\")\n",
        "print(respuesta)"
      ],
      "execution_count": 5,
      "outputs": [
        {
          "output_type": "stream",
          "text": [
            "<function containsWeak at 0x7fdbab78d320>\n"
          ],
          "name": "stdout"
        }
      ]
    },
    {
      "cell_type": "code",
      "metadata": {
        "id": "7WbYG1wWwD3F"
      },
      "source": [
        "#Regular expresion: (KM|CARRERA|CALLE|CRA(,|.)|CL(,|.))\\s(([aA-zZ0-9\\s]*\\s))([aA-zZ\\s]*(\\s|.))(\\s[aA-zZ0-9]*\\W)|(\\s|[aA-zZ0-9]*|\\W)"
      ],
      "execution_count": 6,
      "outputs": []
    }
  ]
}