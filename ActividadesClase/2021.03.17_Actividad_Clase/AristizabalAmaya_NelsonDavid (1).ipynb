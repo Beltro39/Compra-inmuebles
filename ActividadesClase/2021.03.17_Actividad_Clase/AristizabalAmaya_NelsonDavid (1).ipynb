{
  "nbformat": 4,
  "nbformat_minor": 0,
  "metadata": {
    "colab": {
      "name": "AristizabalAmaya_NelsonDavid.ipynb",
      "provenance": [],
      "collapsed_sections": []
    },
    "kernelspec": {
      "name": "python3",
      "display_name": "Python 3"
    }
  },
  "cells": [
    {
      "cell_type": "code",
      "metadata": {
        "colab": {
          "base_uri": "https://localhost:8080/"
        },
        "id": "0_rYVGFygkPk",
        "outputId": "409ec93b-58bf-41bc-d6e7-19523ac45fcf"
      },
      "source": [
        "#http://web.csulb.edu/~tebert/teaching/lectures/419-519/universal/universal.pdf\n",
        "#(CRA\\.|CALLE|CARRERA|)\\s+()\\s*\\d{1,3}\\w*\n",
        "#https://janakiev.com/blog/python-shell-commands/\n",
        "import re\n",
        "miPatron1 = re.compile(r'\\btres\\b')\n",
        "texto = \"\"\"tres tristes Tigres comían Trigo en tres Tristes platos\"\"\"\n",
        "\n",
        "print(\"Uso de Split - separar por 'tres'\")\n",
        "print(miPatron1.split(texto))\n",
        "print(\"Uso de Split - separar por las palabras que comienzan en Mayúscula\")\n",
        "miPatron2 = re.compile(r'\\b[A-Z]\\w*\\b')\n",
        "\n",
        "print(miPatron2.split(texto))\n",
        "print(\"Uso de Sub - Cambiar Triste por Alegre\")\n",
        "miPatron3 = re.compile(r'\\b(T|t)riste')\n",
        "\n",
        "texto2 = miPatron3.sub(\"Alegre\", texto)\n",
        "print(texto2)\n",
        "print(\"Extraer todas las palabras que comienzan por Tr o tr\")\n",
        "print(re.findall(r'\\b[T|t]r\\w*', texto))"
      ],
      "execution_count": 1,
      "outputs": [
        {
          "output_type": "stream",
          "text": [
            "Uso de Split - separar por 'tres'\n",
            "['', ' tristes Tigres comían Trigo en ', ' Tristes platos']\n",
            "Uso de Split - separar por las palabras que comienzan en Mayúscula\n",
            "['tres tristes ', ' comían ', ' en tres ', ' platos']\n",
            "Uso de Sub - Cambiar Triste por Alegre\n",
            "tres Alegres Tigres comían Trigo en tres Alegres platos\n",
            "Extraer todas las palabras que comienzan por Tr o tr\n",
            "['tres', 'tristes', 'Trigo', 'tres', 'Tristes']\n"
          ],
          "name": "stdout"
        }
      ]
    },
    {
      "cell_type": "code",
      "metadata": {
        "id": "iP1WFj1X2hAI"
      },
      "source": [
        "import re \n",
        "def universal(progString, inString):\n",
        "  exec(progString)\n",
        "  localVars = locals()\n",
        "  nombreFnPrincipal = getNombreFnPrincipal(progString)\n",
        "  if nombreFnPrincipal in localVars:\n",
        "    fnPrincipal = localVars[nombreFnPrincipal]\n",
        "  else:\n",
        "    raise Exception('La función ' + nombreFnPrincipal + ' lamentablemente no se ha definido :(')  \n",
        "  return fnPrincipal(inString)\n",
        "\n",
        "def getNombreFnPrincipal(progString):\n",
        "  expresionRegular = r'^def\\s+([a-zA-Z0-9_]*)'\n",
        "  coincidencias = re.search(expresionRegular, progString, re.MULTILINE)\n",
        "  if coincidencias:\n",
        "    return coincidencias.group(1)\n",
        "  else:\n",
        "    return ''"
      ],
      "execution_count": 2,
      "outputs": []
    },
    {
      "cell_type": "code",
      "metadata": {
        "id": "XQFMk-s-3kA7"
      },
      "source": [
        "def containsWeak(inString):\n",
        "  if 'AT' in inString:\n",
        "    return 'yes'\n",
        "  else: \n",
        "    return 'no'"
      ],
      "execution_count": null,
      "outputs": []
    },
    {
      "cell_type": "code",
      "metadata": {
        "id": "fS1MdO4J4l68"
      },
      "source": [
        "from universal import *\n",
        "codigo = open(\"containsWeak.py\").read()\n",
        "respuesta = universal(codigo, 'GTTGATGA')\n",
        "print(respuesta)\n",
        "import os\n",
        "os.getcwd()\n",
        "os.chdir(\"C:\\\\python\")"
      ],
      "execution_count": null,
      "outputs": []
    },
    {
      "cell_type": "code",
      "metadata": {
        "id": "axMrXQVVZkMf"
      },
      "source": [
        "from google.colab import drive\n",
        "drive.mount('/content/drive')"
      ],
      "execution_count": null,
      "outputs": []
    }
  ]
}