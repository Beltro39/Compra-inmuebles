{
  "nbformat": 4,
  "nbformat_minor": 0,
  "metadata": {
    "colab": {
      "name": "BeltranArenas_Sebastian.ipynb",
      "provenance": [],
      "collapsed_sections": []
    },
    "kernelspec": {
      "name": "python3",
      "display_name": "Python 3"
    }
  },
  "cells": [
    {
      "cell_type": "code",
      "metadata": {
        "colab": {
          "base_uri": "https://localhost:8080/"
        },
        "id": "tPZz2GvuKOuQ",
        "outputId": "75afd17d-96f2-45b3-841f-cdbdfb9a5893"
      },
      "source": [
        "def contieneGC(inString):\r\n",
        "  if 'GC' in inString:\r\n",
        "    return 'si'\r\n",
        "  else:\r\n",
        "    return 'no'\r\n",
        "\r\n",
        "print(contieneGC(\"ATGCATTA\"))\r\n",
        "print(contieneGC(\"ATGACATTA\"))    \r\n",
        "\r\n",
        "def TestContieneGC():\r\n",
        "  testVals= [('ATGCATTA', 'si'),\r\n",
        "             ('CCCGAGA', 'no'),\r\n",
        "             ('AGAGAGAGAAGAAGAGAAA', 'no'),\r\n",
        "             ('GAGACCCCGCG','si'),\r\n",
        "             ('', 'no'),\r\n",
        "             ('CCCCCCCCGAGTTTT', 'no'),\r\n",
        "             ]\r\n",
        "\r\n",
        "  for (inString, esperado) in testVals:\r\n",
        "    respuesta= contieneGC(inString)\r\n",
        "    print(inString, ':', respuesta)\r\n",
        "    assert respuesta == esperado\r\n",
        "  print(\"¡Pruebas Superadas!\")      \r\n",
        "\r\n",
        "TestContieneGC()         \r\n"
      ],
      "execution_count": 2,
      "outputs": [
        {
          "output_type": "stream",
          "text": [
            "si\n",
            "no\n",
            "ATGCATTA : si\n",
            "CCCGAGA : no\n",
            "AGAGAGAGAAGAAGAGAAA : no\n",
            "GAGACCCCGCG : si\n",
            " : no\n",
            "CCCCCCCCGAGTTTT : no\n",
            "¡Pruebas Superadas!\n"
          ],
          "name": "stdout"
        }
      ]
    },
    {
      "cell_type": "code",
      "metadata": {
        "colab": {
          "base_uri": "https://localhost:8080/"
        },
        "id": "naW0vhfGQn1v",
        "outputId": "d0cd9530-85d7-431f-d49b-68dda648318f"
      },
      "source": [
        "def multiplicalos(inString):\r\n",
        "  numbers= inString.split()\r\n",
        "\r\n",
        "  for i in range(len(numbers)):\r\n",
        "    numbers[i]= int(numbers[i])\r\n",
        "\r\n",
        "  product= 1\r\n",
        "  for num in numbers:\r\n",
        "    product= product * num  \r\n",
        "\r\n",
        "  productString= str(product)\r\n",
        "  return productString\r\n",
        "\r\n",
        "if (__name__== \"__main__\"):\r\n",
        "  print(multiplicalos(\"1 2 5 10\"))"
      ],
      "execution_count": 3,
      "outputs": [
        {
          "output_type": "stream",
          "text": [
            "100\n"
          ],
          "name": "stdout"
        }
      ]
    },
    {
      "cell_type": "code",
      "metadata": {
        "colab": {
          "base_uri": "https://localhost:8080/",
          "height": 35
        },
        "id": "MOtaoJpPdiRs",
        "outputId": "2df393b8-5086-42cc-f423-7152f50fb291"
      },
      "source": [
        "def sumaSegundo(inString):\r\n",
        "  numbers= inString.split()\r\n",
        "  numbers2= []\r\n",
        "  for i in range(len(numbers)):\r\n",
        "    if(i%2!=0):\r\n",
        "      numbers2+= [int(numbers[i])]\r\n",
        "\r\n",
        "  acumulador= 0\r\n",
        "  for num in numbers2:\r\n",
        "   acumulador= num+acumulador\r\n",
        "\r\n",
        "  return str(acumulador)  \r\n",
        "\r\n",
        "\r\n",
        "\r\n"
      ],
      "execution_count": 14,
      "outputs": [
        {
          "output_type": "execute_result",
          "data": {
            "application/vnd.google.colaboratory.intrinsic+json": {
              "type": "string"
            },
            "text/plain": [
              "'53'"
            ]
          },
          "metadata": {
            "tags": []
          },
          "execution_count": 14
        }
      ]
    },
    {
      "cell_type": "code",
      "metadata": {
        "id": "HqnGhk-Sf9Nh"
      },
      "source": [
        "def sumaTercero(inString):\r\n",
        "  numbers= inString.split()\r\n",
        "  numbers2= []\r\n",
        "  for i in range(len(numbers)):\r\n",
        "    if((i+1)%3==0):\r\n",
        "      numbers2+= [int(numbers[i])]\r\n",
        "\r\n",
        "  acumulador= 0\r\n",
        "  for num in numbers2:\r\n",
        "   acumulador= num+acumulador\r\n",
        "\r\n",
        "  return str(acumulador)  \r\n",
        "\r\n"
      ],
      "execution_count": 23,
      "outputs": []
    },
    {
      "cell_type": "code",
      "metadata": {
        "colab": {
          "base_uri": "https://localhost:8080/"
        },
        "id": "X4SZ_XQ-ibYS",
        "outputId": "9d7f35f0-52f0-4c60-a8e9-ee0a82f86f7a"
      },
      "source": [
        "def decision(inString):\r\n",
        "  if(sumaTercero(inString)>sumaSegundo(inString)):\r\n",
        "    return \"Si\"\r\n",
        "  else:\r\n",
        "    return \"No\"  \r\n",
        "\r\n",
        "print(decision(\"2 4 6 2 3 5\"))  \r\n",
        "print(decision(\"2 4 6 1 3 10\"))    "
      ],
      "execution_count": 28,
      "outputs": [
        {
          "output_type": "stream",
          "text": [
            "No\n",
            "Si\n"
          ],
          "name": "stdout"
        }
      ]
    }
  ]
}