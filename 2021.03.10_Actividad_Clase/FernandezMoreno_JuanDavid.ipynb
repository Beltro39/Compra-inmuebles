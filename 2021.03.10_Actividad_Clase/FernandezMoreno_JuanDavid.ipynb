{
  "nbformat": 4,
  "nbformat_minor": 0,
  "metadata": {
    "colab": {
      "name": "FernandezMoreno_JuanDavid.ipynb",
      "provenance": []
    },
    "kernelspec": {
      "name": "python3",
      "display_name": "Python 3"
    }
  },
  "cells": [
    {
      "cell_type": "code",
      "metadata": {
        "colab": {
          "base_uri": "https://localhost:8080/"
        },
        "id": "GwGZ6qt8J3R7",
        "outputId": "7f55436c-6d50-44b2-8d90-47eae4f08b2d"
      },
      "source": [
        "def contieneGC(inString):\r\n",
        "  if 'GC' in inString:\r\n",
        "    return 'si'\r\n",
        "  else:\r\n",
        "    return 'no'\r\n",
        "\r\n",
        "print(contieneGC('ATGCATTA'))\r\n",
        "print(contieneGC('ATGACATTA'))\r\n",
        "\r\n",
        "def testContieneGC():\r\n",
        "  testVals = [('ATGCATTA', 'si'),\r\n",
        "              ('CCCGAGA', 'no'),\r\n",
        "              ('AGAGAGAAGAAGAGAAA', 'no'),\r\n",
        "              ('GAGACCCGCC', 'si'),\r\n",
        "              ('', 'no'),\r\n",
        "              ('CCCCCCCCGAGTTTT', 'no')]\r\n",
        "  for (inString, esperado) in testVals:\r\n",
        "    respuesta = contieneGC(inString)\r\n",
        "    print(inString, ':', respuesta)\r\n",
        "    assert respuesta == esperado\r\n",
        "  print(\"¡Pruebas Superadas!\") \r\n",
        "\r\n",
        "testContieneGC()"
      ],
      "execution_count": 1,
      "outputs": [
        {
          "output_type": "stream",
          "text": [
            "si\n",
            "no\n",
            "ATGCATTA : si\n",
            "CCCGAGA : no\n",
            "AGAGAGAAGAAGAGAAA : no\n",
            "GAGACCCGCC : si\n",
            " : no\n",
            "CCCCCCCCGAGTTTT : no\n",
            "¡Pruebas Superadas!\n"
          ],
          "name": "stdout"
        }
      ]
    },
    {
      "cell_type": "code",
      "metadata": {
        "colab": {
          "base_uri": "https://localhost:8080/"
        },
        "id": "10YPeuSxTG6P",
        "outputId": "4fde6168-55e9-44ab-bb79-fd124b9ea2d4"
      },
      "source": [
        "def multiplicalos(inString):\r\n",
        "  numbers = inString.split()\r\n",
        "  for i in range(len(numbers)):\r\n",
        "    numbers[i] = int(numbers[i])\r\n",
        "  product = 1\r\n",
        "  for num in numbers:\r\n",
        "    product = product * num\r\n",
        "\r\n",
        "  productString = str(product)\r\n",
        "  return productString\r\n",
        "\r\n",
        "if(__name__ == \"__main__\"):\r\n",
        "  print(multiplicalos(\"1 2 5 10\"))"
      ],
      "execution_count": 4,
      "outputs": [
        {
          "output_type": "stream",
          "text": [
            "100\n"
          ],
          "name": "stdout"
        }
      ]
    },
    {
      "cell_type": "code",
      "metadata": {
        "colab": {
          "base_uri": "https://localhost:8080/"
        },
        "id": "XY1FViWF_CX7",
        "outputId": "fa8965d3-adf8-45e2-d6ce-c4b45c21d052"
      },
      "source": [
        "def sumaSegundo(inString):\r\n",
        "  numbers = inString.split()\r\n",
        "  suma = 0\r\n",
        "  for i in range(len(numbers)):\r\n",
        "    numbers[i] = int(numbers[i])\r\n",
        "  for i in range(len(numbers)):\r\n",
        "    if((i+1)%2==0):\r\n",
        "      suma = suma + numbers[i]\r\n",
        "  sumaTotal = str(suma)\r\n",
        "  return sumaTotal\r\n",
        "\r\n",
        "print(sumaSegundo(\"58 41 78 3 25 9\"))\r\n",
        "print(sumaSegundo(\"58 41 3 25 9\"))\r\n"
      ],
      "execution_count": 16,
      "outputs": [
        {
          "output_type": "stream",
          "text": [
            "53\n",
            "66\n"
          ],
          "name": "stdout"
        }
      ]
    },
    {
      "cell_type": "code",
      "metadata": {
        "colab": {
          "base_uri": "https://localhost:8080/"
        },
        "id": "F_7G67OXASUO",
        "outputId": "f60c9642-eb19-4c1c-fb33-125b063046a2"
      },
      "source": [
        "def sumaTercero(inString):\r\n",
        "  numbers = inString.split()\r\n",
        "  suma = 0\r\n",
        "  for i in range(len(numbers)):\r\n",
        "    numbers[i] = int(numbers[i])\r\n",
        "  for i in range(len(numbers)):\r\n",
        "    if((i+1)%3==0):\r\n",
        "      suma = suma + numbers[i]\r\n",
        "  sumaTotal = str(suma)\r\n",
        "  return sumaTotal\r\n",
        "\r\n",
        "print(sumaTercero(\"58 41 78 3 25 9\"))\r\n",
        "print(sumaTercero(\"58 41 3 25 9\"))\r\n"
      ],
      "execution_count": 17,
      "outputs": [
        {
          "output_type": "stream",
          "text": [
            "87\n",
            "3\n"
          ],
          "name": "stdout"
        }
      ]
    },
    {
      "cell_type": "code",
      "metadata": {
        "colab": {
          "base_uri": "https://localhost:8080/"
        },
        "id": "velLYFBTAkDo",
        "outputId": "ea660d8d-e07c-4a2f-f032-3ccd5b231808"
      },
      "source": [
        "def funcionDecision(inString):\r\n",
        "  sumaTerceroValue = sumaTercero(inString)\r\n",
        "  sumaSegundoValue = sumaSegundo(inString)\r\n",
        "  if(int(sumaTerceroValue) > int(sumaSegundoValue)):\r\n",
        "    return \"si\"\r\n",
        "  else:\r\n",
        "    return \"no\"\r\n",
        "\r\n",
        "print(funcionDecision(\"58 41 78 3 25 9\"))\r\n",
        "print(funcionDecision(\"58 41 3 25 9\"))\r\n"
      ],
      "execution_count": 18,
      "outputs": [
        {
          "output_type": "stream",
          "text": [
            "si\n",
            "no\n"
          ],
          "name": "stdout"
        }
      ]
    }
  ]
}