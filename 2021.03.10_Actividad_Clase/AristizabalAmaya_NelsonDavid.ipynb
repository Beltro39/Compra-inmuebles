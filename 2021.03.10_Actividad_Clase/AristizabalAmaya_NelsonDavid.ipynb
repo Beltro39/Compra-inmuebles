{
  "nbformat": 4,
  "nbformat_minor": 0,
  "metadata": {
    "colab": {
      "name": "AristizabalAmaya_NelsonDavid.ipynb",
      "provenance": [],
      "collapsed_sections": []
    },
    "kernelspec": {
      "name": "python3",
      "display_name": "Python 3"
    }
  },
  "cells": [
    {
      "cell_type": "code",
      "metadata": {
        "colab": {
          "base_uri": "https://localhost:8080/"
        },
        "id": "8VWefhRhJrjm",
        "outputId": "34e0998e-b079-4854-8769-7b8579195f61"
      },
      "source": [
        "#la funcion para determinar si la palabra esta o no inlcuida\r\n",
        "def contieneGC(inString):\r\n",
        "  if 'GC' in inString:\r\n",
        "    return 'si'\r\n",
        "  else:\r\n",
        "    return 'no'\r\n",
        "\r\n",
        "print(contieneGC(\"ATGCATTA\"))\r\n",
        "print(contieneGC(\"ATGACATTA\"))\r\n",
        "\r\n",
        "#funcion donde le pasas en la lista la palabra y lo que se espera\r\n",
        "#como resultado\r\n",
        "def testContieneGC():\r\n",
        "  testVals = [('ATGCATTA', 'si'),\r\n",
        "              ('CCCGAGA', 'no'),\r\n",
        "              ('AGAGAGAAGAAGAGAAA','no'),\r\n",
        "              ('GAGACCCGCC', 'si'),\r\n",
        "              ('', 'no'),\r\n",
        "              ('CCCCCCCCGAGTTTT','no'),\r\n",
        "              ]\r\n",
        "  for (inString, esperado) in testVals:\r\n",
        "    respuesta = contieneGC(inString)\r\n",
        "    print(inString,':',respuesta)\r\n",
        "    assert respuesta == esperado\r\n",
        "  print(\"¡Pruebas Superadas!\")\r\n",
        "testContieneGC()\r\n",
        "\r\n"
      ],
      "execution_count": 7,
      "outputs": [
        {
          "output_type": "stream",
          "text": [
            "si\n",
            "no\n",
            "ATGCATTA : si\n",
            "CCCGAGA : no\n",
            "AGAGAGAAGAAGAGAAA : no\n",
            "GAGACCCGCC : si\n",
            " : no\n",
            "CCCCCCCCGAGTTTT : no\n",
            "¡Pruebas Superadas!\n"
          ],
          "name": "stdout"
        }
      ]
    },
    {
      "cell_type": "code",
      "metadata": {
        "colab": {
          "base_uri": "https://localhost:8080/"
        },
        "id": "1sVQ-W_BTCIl",
        "outputId": "33ca2640-7cbc-4c91-a2a6-43a43316510f"
      },
      "source": [
        "def multiplicalos(inString):\r\n",
        "  #separar por espacios\r\n",
        "  numbers= inString.split()\r\n",
        "\r\n",
        "  #convertir a enteros\r\n",
        "  for i in range(len(numbers)):\r\n",
        "    numbers[i] = int(numbers[i])\r\n",
        "\r\n",
        "  product = 1\r\n",
        "  for num in numbers:\r\n",
        "    product *= num\r\n",
        "\r\n",
        "  #convierte el resultado en String\r\n",
        "  productString = str(product)\r\n",
        "  return productString\r\n",
        "\r\n",
        "if (__name__==\"__main__\"):\r\n",
        "  print(multiplicalos(\"1 2 5 10\")) "
      ],
      "execution_count": 8,
      "outputs": [
        {
          "output_type": "stream",
          "text": [
            "100\n"
          ],
          "name": "stdout"
        }
      ]
    },
    {
      "cell_type": "code",
      "metadata": {
        "colab": {
          "base_uri": "https://localhost:8080/"
        },
        "id": "0bARZcIrUUbT",
        "outputId": "57480330-5bb8-45d9-a4b0-911ebcfe2066"
      },
      "source": [
        "def sumaSegundo(inString):\r\n",
        "  #separar por espacios\r\n",
        "  numbers= inString.split()\r\n",
        "\r\n",
        "  #convertir a enteros\r\n",
        "  for i in range(len(numbers)):\r\n",
        "    numbers[i] = int(numbers[i])\r\n",
        "\r\n",
        "  suma = 0\r\n",
        "  numero=len(numbers)\r\n",
        "\r\n",
        "  for j in range(1,numero,2):\r\n",
        "      suma+=numbers[j]\r\n",
        "\r\n",
        "  #convierte el resultado en String\r\n",
        "  productString = str(suma)\r\n",
        "  return productString\r\n",
        "\r\n",
        "def test():\r\n",
        "  testNumeros = [('58 41 78 3 25 9', '53'),\r\n",
        "              ('1 2 3 4 5', '60'),\r\n",
        "              ('7 8 9 4','12'),\r\n",
        "              ]\r\n",
        "  for (inString, esperado) in testNumeros:\r\n",
        "    respuesta = sumaSegundo(inString)\r\n",
        "    print(inString,':',respuesta)\r\n",
        "    try: assert respuesta == esperado\r\n",
        "    except: \r\n",
        "      print(\"No cumple\")\r\n",
        "    if respuesta == esperado:\r\n",
        "      print(\"Cumple\")\r\n",
        "\r\n",
        "if (__name__==\"__main__\"):\r\n",
        " test()"
      ],
      "execution_count": 64,
      "outputs": [
        {
          "output_type": "stream",
          "text": [
            "58 41 78 3 25 9 : 53\n",
            "Cumple\n",
            "1 2 3 4 5 : 6\n",
            "No cumple\n",
            "7 8 9 4 : 12\n",
            "Cumple\n"
          ],
          "name": "stdout"
        }
      ]
    },
    {
      "cell_type": "code",
      "metadata": {
        "colab": {
          "base_uri": "https://localhost:8080/"
        },
        "id": "-GasjEkxkNtR",
        "outputId": "3279907f-1494-4374-f3f2-0d93fabb97a9"
      },
      "source": [
        "def sumaTercero(inString):\r\n",
        "  #separar por espacios\r\n",
        "  numbers= inString.split()\r\n",
        "\r\n",
        "  #convertir a enteros\r\n",
        "  for i in range(len(numbers)):\r\n",
        "    numbers[i] = int(numbers[i])\r\n",
        "\r\n",
        "  suma = 0\r\n",
        "  numero=len(numbers)\r\n",
        "\r\n",
        "  for j in range(2,numero,3):\r\n",
        "      suma+=numbers[j]\r\n",
        "\r\n",
        "  #convierte el resultado en String\r\n",
        "  productString = str(suma)\r\n",
        "  return productString\r\n",
        "\r\n",
        "def test():\r\n",
        "  testNumeros = [('58 41 78 3 25 9', '87'),\r\n",
        "              ('1 2 3 4 5 6', '95'),\r\n",
        "              ('7 8 9 4','9'),\r\n",
        "              ]\r\n",
        "  for (inString, esperado) in testNumeros:\r\n",
        "    respuesta = sumaTercero(inString)\r\n",
        "    print(inString,':',respuesta)\r\n",
        "    try: assert respuesta == esperado\r\n",
        "    except: \r\n",
        "      print(\"No cumple\")\r\n",
        "    if respuesta == esperado:\r\n",
        "      print(\"Cumple\")\r\n",
        "\r\n",
        "if (__name__==\"__main__\"):\r\n",
        " test()"
      ],
      "execution_count": 62,
      "outputs": [
        {
          "output_type": "stream",
          "text": [
            "58 41 78 3 25 9 : 87\n",
            "Cumple\n",
            "1 2 3 4 5 6 : 9\n",
            "No cumple\n",
            "7 8 9 4 : 9\n",
            "Cumple\n"
          ],
          "name": "stdout"
        }
      ]
    },
    {
      "cell_type": "code",
      "metadata": {
        "colab": {
          "base_uri": "https://localhost:8080/"
        },
        "id": "fwYaTORvooYC",
        "outputId": "5b71f776-4a12-4e47-c5f7-249961444300"
      },
      "source": [
        "def aceptacion(inString):\r\n",
        "  #separar por espacios\r\n",
        "  numbers= inString.split()\r\n",
        "\r\n",
        "  #convertir a enteros\r\n",
        "  for i in range(len(numbers)):\r\n",
        "    numbers[i] = int(numbers[i])\r\n",
        "\r\n",
        "  sumaPar = 0\r\n",
        "  sumaImpar = 0\r\n",
        "  numero=len(numbers)\r\n",
        "\r\n",
        "  for j in range(1,numero,2):\r\n",
        "      sumaPar+=numbers[j]\r\n",
        "  for x in range(2,numero,3):\r\n",
        "      sumaImpar+=numbers[x]\r\n",
        "\r\n",
        "  #convierte el resultado en String\r\n",
        "  productStringPar = str(sumaPar)\r\n",
        "  productStringImpar = str(sumaImpar)\r\n",
        "  if sumaPar <= sumaImpar:\r\n",
        "    return 'si'\r\n",
        "  else:\r\n",
        "    return 'no'\r\n",
        "\r\n",
        "def test():\r\n",
        "  testNumeros = [('58 41 78 3 25 9', 'si'),\r\n",
        "              ('1 2 3 4 5 6', 'si'),\r\n",
        "              ('7 8 9 4','no'),\r\n",
        "              ]\r\n",
        "  for (inString, esperado) in testNumeros:\r\n",
        "    respuesta = aceptacion(inString)\r\n",
        "    print(inString,':',respuesta)\r\n",
        "    try: assert respuesta == esperado\r\n",
        "    except: \r\n",
        "      print(\"No cumple\")\r\n",
        "    if respuesta == esperado:\r\n",
        "      print(\"Cumple\")\r\n",
        "\r\n",
        "if (__name__==\"__main__\"):\r\n",
        " test()"
      ],
      "execution_count": 73,
      "outputs": [
        {
          "output_type": "stream",
          "text": [
            "53\n",
            "87\n",
            "58 41 78 3 25 9 : si\n",
            "Cumple\n",
            "12\n",
            "9\n",
            "1 2 3 4 5 6 : no\n",
            "No cumple\n",
            "12\n",
            "9\n",
            "7 8 9 4 : no\n",
            "Cumple\n"
          ],
          "name": "stdout"
        }
      ]
    }
  ]
}