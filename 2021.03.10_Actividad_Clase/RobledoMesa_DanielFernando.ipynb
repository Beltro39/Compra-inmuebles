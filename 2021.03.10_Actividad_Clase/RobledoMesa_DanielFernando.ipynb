{
  "nbformat": 4,
  "nbformat_minor": 0,
  "metadata": {
    "colab": {
      "name": "RobledoMesa_DanielFernando.ipynb",
      "provenance": [],
      "collapsed_sections": []
    },
    "kernelspec": {
      "name": "python3",
      "display_name": "Python 3"
    }
  },
  "cells": [
    {
      "cell_type": "code",
      "metadata": {
        "colab": {
          "base_uri": "https://localhost:8080/"
        },
        "id": "S2QNlYnXJ8a6",
        "outputId": "e60894d0-0df0-4c22-876e-21be7d450f42"
      },
      "source": [
        "def contieneGC(inString):\r\n",
        "  if 'GC' in inString:\r\n",
        "    return 'si'\r\n",
        "  else:\r\n",
        "    return 'no'  \r\n",
        "\r\n",
        "print(contieneGC(\"ATGCATTA\"))    \r\n",
        "print(contieneGC(\"ATGACATTA\"))  \r\n",
        "\r\n",
        "def testContieneGC():\r\n",
        "  testVals = [('ATGCATTA', 'si'),\r\n",
        "              ('CCCGAGA', 'no'),\r\n",
        "              ('AGAGAGAAGAAGAGAAA', 'no'),\r\n",
        "              ('GAGACCCGCC', 'si'),\r\n",
        "              ('', 'no'),\r\n",
        "              ('CCCCCCCCGAGTTTT', 'no'),\r\n",
        "              ]\r\n",
        "  for(inString, esperado) in testVals:\r\n",
        "     respuesta= contieneGC(inString)\r\n",
        "     print(inString, ':', respuesta)\r\n",
        "     assert respuesta == esperado\r\n",
        "  print(\"¡Pruebas Superadas!\")\r\n",
        "\r\n",
        "testContieneGC()                \r\n"
      ],
      "execution_count": 3,
      "outputs": [
        {
          "output_type": "stream",
          "text": [
            "si\n",
            "no\n",
            "ATGCATTA : si\n",
            "CCCGAGA : no\n",
            "AGAGAGAAGAAGAGAAA : no\n",
            "GAGACCCGCC : si\n",
            " : no\n",
            "CCCCCCCCGAGTTTT : no\n",
            "¡Pruebas Superadas!\n"
          ],
          "name": "stdout"
        }
      ]
    },
    {
      "cell_type": "code",
      "metadata": {
        "colab": {
          "base_uri": "https://localhost:8080/"
        },
        "id": "_TJiRLvqOyX3",
        "outputId": "7a2fd66f-d058-4428-a47f-e71aee5cd5e3"
      },
      "source": [
        "def multiplicalos(inString):\r\n",
        "  numbers = inString.split()\r\n",
        "\r\n",
        "  for i in range(len(numbers)):\r\n",
        "    numbers[i] = int(numbers[i])\r\n",
        "\r\n",
        "  product = 1\r\n",
        "  for num in numbers:\r\n",
        "    product = product * num\r\n",
        "\r\n",
        "  productString = str(product)\r\n",
        "  return productString\r\n",
        "\r\n",
        "if(__name__ == \"__main__\"):\r\n",
        "  print(multiplicalos(\"1 2 5 10\"))\r\n",
        "\r\n"
      ],
      "execution_count": 4,
      "outputs": [
        {
          "output_type": "stream",
          "text": [
            "100\n"
          ],
          "name": "stdout"
        }
      ]
    },
    {
      "cell_type": "markdown",
      "metadata": {
        "id": "qgSsaqDUWdEH"
      },
      "source": [
        "**Ejercicios:**"
      ]
    },
    {
      "cell_type": "markdown",
      "metadata": {
        "id": "LMx2E6kSWl9v"
      },
      "source": [
        "**a)**"
      ]
    },
    {
      "cell_type": "code",
      "metadata": {
        "colab": {
          "base_uri": "https://localhost:8080/"
        },
        "id": "PBKpnxLGWpr_",
        "outputId": "574debf8-065c-41e6-922b-15df5b13ef58"
      },
      "source": [
        "def sumSegun(input):\r\n",
        "  numeros = input.split()\r\n",
        "  for i in range(len(numeros)):\r\n",
        "    numeros[i] = int(numeros[i])\r\n",
        "\r\n",
        "  sum = 0\r\n",
        "  for num in numeros:\r\n",
        "    if (numeros.index(num)%2 != 0):\r\n",
        "      sum = sum + num\r\n",
        "  return \"La respuesta es\" + \" \" + str(sum)\r\n",
        "\r\n",
        "print(sumSegun(\"58 41 78 3 25 9\"))\r\n"
      ],
      "execution_count": 12,
      "outputs": [
        {
          "output_type": "stream",
          "text": [
            "La respuesta es 53\n"
          ],
          "name": "stdout"
        }
      ]
    },
    {
      "cell_type": "markdown",
      "metadata": {
        "id": "hk8kphErdhqZ"
      },
      "source": [
        "**b)**"
      ]
    },
    {
      "cell_type": "code",
      "metadata": {
        "colab": {
          "base_uri": "https://localhost:8080/"
        },
        "id": "I6nPtLFPdkNA",
        "outputId": "9377ad83-6e05-4237-81c2-45cb6e2df350"
      },
      "source": [
        "def sumSegun(input):\r\n",
        "  numeros = input.split()\r\n",
        "  for i in range(len(numeros)):\r\n",
        "    numeros[i] = int(numeros[i])\r\n",
        "\r\n",
        "  sum = 0\r\n",
        "  for num in numeros:\r\n",
        "    if ((numeros.index(num) + 1)%3 == 0):\r\n",
        "      sum = sum + num\r\n",
        "  return \"La respuesta es\" + \" \" + str(sum)\r\n",
        "\r\n",
        "print(sumSegun(\"58 41 78 3 25 9\"))"
      ],
      "execution_count": 13,
      "outputs": [
        {
          "output_type": "stream",
          "text": [
            "La respuesta es 87\n"
          ],
          "name": "stdout"
        }
      ]
    },
    {
      "cell_type": "markdown",
      "metadata": {
        "id": "tUwj2q6xdzfg"
      },
      "source": [
        "**c)**"
      ]
    },
    {
      "cell_type": "code",
      "metadata": {
        "colab": {
          "base_uri": "https://localhost:8080/"
        },
        "id": "HwRSvUoLd1d4",
        "outputId": "938e7f5b-4711-402e-e4c1-13f79976f423"
      },
      "source": [
        "def verMayor(numeros):\r\n",
        "  sum = 0\r\n",
        "  sum2 = 0\r\n",
        "  for num in numeros:\r\n",
        "    if ((numeros.index(num) + 1)%3 == 0):\r\n",
        "      sum = sum + num\r\n",
        "    if (numeros.index(num)%2 != 0):\r\n",
        "      sum2 = sum2 + num \r\n",
        "  \r\n",
        "  if (sum > sum2):\r\n",
        "    return \"Si\"\r\n",
        "  else:\r\n",
        "    return \"No\"\r\n",
        "  \r\n",
        "\r\n",
        "print(verMayor([58, 41, 78, 3, 25, 9]))"
      ],
      "execution_count": 17,
      "outputs": [
        {
          "output_type": "stream",
          "text": [
            "Si\n"
          ],
          "name": "stdout"
        }
      ]
    }
  ]
}
