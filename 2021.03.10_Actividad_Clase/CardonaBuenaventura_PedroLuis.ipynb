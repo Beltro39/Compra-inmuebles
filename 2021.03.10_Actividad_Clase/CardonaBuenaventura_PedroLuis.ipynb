{
  "nbformat": 4,
  "nbformat_minor": 0,
  "metadata": {
    "colab": {
      "name": "CardonaBuenaventura_PedroLuis.ipynb",
      "provenance": [],
      "collapsed_sections": []
    },
    "kernelspec": {
      "name": "python3",
      "display_name": "Python 3"
    }
  },
  "cells": [
    {
      "cell_type": "code",
      "metadata": {
        "colab": {
          "base_uri": "https://localhost:8080/"
        },
        "id": "4jZbdoH8J7Cg",
        "outputId": "cc29cfb7-7ad5-44b9-bb59-329758c116b2"
      },
      "source": [
        "def contieneGC(inString):\r\n",
        "  if 'GC' in inString:\r\n",
        "    return 'si'\r\n",
        "  else:\r\n",
        "    return 'no'\r\n",
        "\r\n",
        "print(contieneGC('ATGCATTA'))\r\n",
        "print(contieneGC('ATGACATTA'))\r\n",
        "\r\n",
        "def testContieneGC():\r\n",
        "  testVals = [('ATGCATTA','si'),\r\n",
        "              ('CCCGAGA','no'),\r\n",
        "              ('AGAGAGAAGAAGAGAAA','no'),\r\n",
        "              ('GAGACCGCC','si'),\r\n",
        "              ('CCCCCCCCGAGTTTT','no')\r\n",
        "              \r\n",
        "            ]\r\n",
        "  for (inString, esperado) in testVals:\r\n",
        "    respuesta = contieneGC(inString)\r\n",
        "    print(inString, ':', respuesta )\r\n",
        "    assert respuesta == esperado\r\n",
        "  print(\"!Pruebas superadas ¡\")\r\n",
        "\r\n",
        "testContieneGC()"
      ],
      "execution_count": 2,
      "outputs": [
        {
          "output_type": "stream",
          "text": [
            "si\n",
            "no\n",
            "ATGCATTA : si\n",
            "CCCGAGA : no\n",
            "AGAGAGAAGAAGAGAAA : no\n",
            "GAGACCGCC : si\n",
            "CCCCCCCCGAGTTTT : no\n",
            "!Pruebas superadas ¡\n"
          ],
          "name": "stdout"
        }
      ]
    },
    {
      "cell_type": "code",
      "metadata": {
        "colab": {
          "base_uri": "https://localhost:8080/"
        },
        "id": "RJbovJTNRmHY",
        "outputId": "2657d200-c70f-4b6f-dc51-d8a8f8172192"
      },
      "source": [
        "def multiplicalos(inString):\r\n",
        "  numbers = inString.split()\r\n",
        "  for i in range(len(numbers)):\r\n",
        "    numbers[i] = int(numbers[i])\r\n",
        "  \r\n",
        "  product = 1\r\n",
        "  for num in numbers:\r\n",
        "    product=product*num\r\n",
        "\r\n",
        "  productString = str(product)\r\n",
        "  return productString\r\n",
        "\r\n",
        "if(__name__==\"__main__\"):\r\n",
        "  print(multiplicalos(\"1 2 5 10\"))"
      ],
      "execution_count": 4,
      "outputs": [
        {
          "output_type": "stream",
          "text": [
            "100\n"
          ],
          "name": "stdout"
        }
      ]
    },
    {
      "cell_type": "code",
      "metadata": {
        "colab": {
          "base_uri": "https://localhost:8080/"
        },
        "id": "nouCARJkUKZ5",
        "outputId": "e6d6494f-b4b7-448c-cb91-503b2d406bd1"
      },
      "source": [
        "from functools import reduce\r\n",
        "\r\n",
        "def sumaSegundo(inString):\r\n",
        "  numbers = inString.split()\r\n",
        "  for i in range(len(numbers)):\r\n",
        "    numbers[i] = int(numbers[i])\r\n",
        "\r\n",
        "  resultado = 0\r\n",
        "  for i in range(len(numbers)):\r\n",
        "    if (i+1) % 2 == 0:\r\n",
        "        resultado += numbers[i]\r\n",
        "  return resultado\r\n",
        "\r\n",
        "print(sumaSegundo(\"58 41 78 3 25 9\"))\r\n",
        "print(sumaSegundo(\"1 2 3 4 5 6 7 8 9 10 11\"))\r\n",
        "print(sumaSegundo(\"1 1 3 2 2 3 4 5 3\"))\r\n"
      ],
      "execution_count": 19,
      "outputs": [
        {
          "output_type": "stream",
          "text": [
            "53\n",
            "30\n",
            "11\n"
          ],
          "name": "stdout"
        }
      ]
    },
    {
      "cell_type": "code",
      "metadata": {
        "colab": {
          "base_uri": "https://localhost:8080/"
        },
        "id": "B1YxyBYQfr0W",
        "outputId": "3031bdcb-2943-44e2-cfb5-93d91340ed1b"
      },
      "source": [
        "from functools import reduce\r\n",
        "\r\n",
        "def sumaTercero(inString):\r\n",
        "  numbers = inString.split()\r\n",
        "  for i in range(len(numbers)):\r\n",
        "    numbers[i] = int(numbers[i])\r\n",
        "\r\n",
        "  resultado = 0\r\n",
        "  for i in range(len(numbers)):\r\n",
        "    if (i+1) % 3 == 0:\r\n",
        "        resultado += numbers[i]\r\n",
        "  return resultado\r\n",
        "\r\n",
        "print(sumaTercero(\"58 41 78 3 25 9\"))\r\n",
        "print(sumaTercero(\"1 2 3 4 5 6 7 8 9 10 11\"))\r\n",
        "print(sumaTercero(\"1 1 3 2 2 3 4 5 3\"))"
      ],
      "execution_count": 18,
      "outputs": [
        {
          "output_type": "stream",
          "text": [
            "87\n",
            "18\n",
            "9\n"
          ],
          "name": "stdout"
        }
      ]
    },
    {
      "cell_type": "code",
      "metadata": {
        "colab": {
          "base_uri": "https://localhost:8080/"
        },
        "id": "WNFiz-vyhxxZ",
        "outputId": "df25c4e9-e87b-4f06-d517-ee8072e2abdf"
      },
      "source": [
        "def sumaTercero(inString):\r\n",
        "  numbers = inString.split()\r\n",
        "  for i in range(len(numbers)):\r\n",
        "    numbers[i] = int(numbers[i])\r\n",
        "\r\n",
        "  resultado = 0\r\n",
        "  for i in range(len(numbers)):\r\n",
        "    if (i+1) % 3 == 0:\r\n",
        "        resultado += numbers[i]\r\n",
        "  return resultado\r\n",
        "\r\n",
        "def sumaSegundo(inString):\r\n",
        "  numbers = inString.split()\r\n",
        "  for i in range(len(numbers)):\r\n",
        "    numbers[i] = int(numbers[i])\r\n",
        "\r\n",
        "  resultado = 0\r\n",
        "  for i in range(len(numbers)):\r\n",
        "    if (i+1) % 2 == 0:\r\n",
        "        resultado += numbers[i]\r\n",
        "  return resultado\r\n",
        "\r\n",
        "def decidir(inString):\r\n",
        "  if sumaTercero(inString)>sumaSegundo(inString):\r\n",
        "    return 'Si'\r\n",
        "  else:\r\n",
        "    return 'No'\r\n",
        "\r\n",
        "print(decidir(\"58 41 78 3 25 9\"))\r\n",
        "print(decidir(\"1 2 3 4 5 6 7 8 9 10 11\"))\r\n",
        "print(decidir(\"1 1 3 2 2 3 4 5 3\"))\r\n"
      ],
      "execution_count": 21,
      "outputs": [
        {
          "output_type": "stream",
          "text": [
            "Si\n",
            "No\n",
            "No\n"
          ],
          "name": "stdout"
        }
      ]
    }
  ]
}