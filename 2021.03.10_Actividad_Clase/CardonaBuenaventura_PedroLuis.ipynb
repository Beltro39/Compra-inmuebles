{
  "nbformat": 4,
  "nbformat_minor": 0,
  "metadata": {
    "colab": {
      "name": "CardonaBuenaventura_PedroLuis.ipynb",
      "provenance": []
    },
    "kernelspec": {
      "name": "python3",
      "display_name": "Python 3"
    }
  },
  "cells": [
    {
      "cell_type": "code",
      "metadata": {
        "colab": {
          "base_uri": "https://localhost:8080/"
        },
        "id": "4jZbdoH8J7Cg",
        "outputId": "cc29cfb7-7ad5-44b9-bb59-329758c116b2"
      },
      "source": [
        "def contieneGC(inString):\r\n",
        "  if 'GC' in inString:\r\n",
        "    return 'si'\r\n",
        "  else:\r\n",
        "    return 'no'\r\n",
        "\r\n",
        "print(contieneGC('ATGCATTA'))\r\n",
        "print(contieneGC('ATGACATTA'))\r\n",
        "\r\n",
        "def testContieneGC():\r\n",
        "  testVals = [('ATGCATTA','si'),\r\n",
        "              ('CCCGAGA','no'),\r\n",
        "              ('AGAGAGAAGAAGAGAAA','no'),\r\n",
        "              ('GAGACCGCC','si'),\r\n",
        "              ('CCCCCCCCGAGTTTT','no')\r\n",
        "              \r\n",
        "            ]\r\n",
        "  for (inString, esperado) in testVals:\r\n",
        "    respuesta = contieneGC(inString)\r\n",
        "    print(inString, ':', respuesta )\r\n",
        "    assert respuesta == esperado\r\n",
        "  print(\"!Pruebas superadas ¡\")\r\n",
        "\r\n",
        "testContieneGC()"
      ],
      "execution_count": 2,
      "outputs": [
        {
          "output_type": "stream",
          "text": [
            "si\n",
            "no\n",
            "ATGCATTA : si\n",
            "CCCGAGA : no\n",
            "AGAGAGAAGAAGAGAAA : no\n",
            "GAGACCGCC : si\n",
            "CCCCCCCCGAGTTTT : no\n",
            "!Pruebas superadas ¡\n"
          ],
          "name": "stdout"
        }
      ]
    }
  ]
}