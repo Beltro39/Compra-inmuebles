{
  "nbformat": 4,
  "nbformat_minor": 0,
  "metadata": {
    "colab": {
      "name": "GaviriaLora_AndresFelipe.ipynb",
      "provenance": []
    },
    "kernelspec": {
      "name": "python3",
      "display_name": "Python 3"
    }
  },
  "cells": [
    {
      "cell_type": "markdown",
      "metadata": {
        "id": "0EhwjxnKXdsS"
      },
      "source": [
        "**Funciones SISO**\n",
        "**1.**"
      ]
    },
    {
      "cell_type": "code",
      "metadata": {
        "colab": {
          "base_uri": "https://localhost:8080/"
        },
        "id": "sZrn4-TpJdPj",
        "outputId": "9bed0884-b42a-4ef7-9550-d25d55ea544c"
      },
      "source": [
        "def contieneGC(inString):\r\n",
        "  if \"GC\" in inString:\r\n",
        "    return \"si\"\r\n",
        "  else:\r\n",
        "    return \"no\"\r\n",
        "\r\n",
        "print(contieneGC(\"ATGCATTA\"))\r\n",
        "print(contieneGC(\"ATGACATTA\"))\r\n",
        "\r\n",
        "def testContieneGC():\r\n",
        "  testVals = [(\"ATGCATTA\",\"si\"),\r\n",
        "              (\"CCCGAGA\",\"no\"),\r\n",
        "              (\"AGAGAGAAGAAGAGAAA\",\"no\"),\r\n",
        "              (\"GAGACCCGCC\",\"si\"),\r\n",
        "              (\"\",\"no\"),\r\n",
        "              (\"CCCCCCCCGAGTTTT\",\"no\")\r\n",
        "              ]\r\n",
        "  for (inString, esperado) in testVals:\r\n",
        "    respuesta = contieneGC(inString)\r\n",
        "    print(inString, \":\", respuesta)\r\n",
        "    assert respuesta == esperado\r\n",
        "  print(\"¡Pruebas Superadas!\")\r\n",
        "testContieneGC()"
      ],
      "execution_count": null,
      "outputs": [
        {
          "output_type": "stream",
          "text": [
            "si\n",
            "no\n",
            "ATGCATTA : si\n",
            "CCCGAGA : no\n",
            "AGAGAGAAGAAGAGAAA : no\n",
            "GAGACCCGCC : si\n",
            " : no\n",
            "CCCCCCCCGAGTTTT : no\n",
            "¡Pruebas Superadas!\n"
          ],
          "name": "stdout"
        }
      ]
    },
    {
      "cell_type": "markdown",
      "metadata": {
        "id": "9i35MrFuU9gs"
      },
      "source": [
        "**2.**"
      ]
    },
    {
      "cell_type": "code",
      "metadata": {
        "colab": {
          "base_uri": "https://localhost:8080/"
        },
        "id": "52TjordINyb6",
        "outputId": "21ee7658-5425-420c-cc15-412c62bf9da5"
      },
      "source": [
        "def multiplicalos(inString):\r\n",
        "  numbers = inString.split()\r\n",
        "  \r\n",
        "  for i in range(len(numbers)):\r\n",
        "    numbers[i] = int(numbers[i])\r\n",
        "  product = 1\r\n",
        "  for num in numbers:\r\n",
        "    product = product * num\r\n",
        "\r\n",
        "  productString = str(product)\r\n",
        "  return productString\r\n",
        "\r\n",
        "if (__name__==\"__main__\"):\r\n",
        "  print(multiplicalos(\"1 2 5 10\"))"
      ],
      "execution_count": null,
      "outputs": [
        {
          "output_type": "stream",
          "text": [
            "100\n"
          ],
          "name": "stdout"
        }
      ]
    },
    {
      "cell_type": "markdown",
      "metadata": {
        "id": "W6fbWEY7Nmmn"
      },
      "source": [
        "**Ejercicios:** "
      ]
    },
    {
      "cell_type": "code",
      "metadata": {
        "colab": {
          "base_uri": "https://localhost:8080/"
        },
        "id": "x6Iyt4etgyGz",
        "outputId": "afbe77b6-b2e1-49a2-fca5-615a5204bfeb"
      },
      "source": [
        "#1. sumaSegundo\r\n",
        "def sumaSegundo(inString):\r\n",
        "  numeros = inString.split()\r\n",
        "  sum = 0\r\n",
        "  aux = []\r\n",
        "  for i in range(1,len(numeros)+1):\r\n",
        "    if i % 2 == 0:\r\n",
        "      aux.append(i)\r\n",
        "  for i in range(len(numeros)+1):\r\n",
        "    if i in aux:\r\n",
        "      sum += int(numeros[i-1])\r\n",
        "  return str(sum)\r\n",
        "\r\n",
        "#2. sumaTercero\r\n",
        "def sumaTercero(inString):\r\n",
        "  numeros = inString.split()\r\n",
        "  sum = 0\r\n",
        "  aux = []\r\n",
        "  for i in range(1,len(numeros)+1):\r\n",
        "    if i % 3 == 0:\r\n",
        "      aux.append(i)\r\n",
        "  for i in range(len(numeros)+1):\r\n",
        "    if i in aux:\r\n",
        "      sum += int(numeros[i-1])\r\n",
        "  return str(sum)\r\n",
        "\r\n",
        "#3. Funcion de decisión\r\n",
        "def comparacion(inString):\r\n",
        "  if int(sumaSegundo(inString)) < int(sumaTercero(inString)):\r\n",
        "    return \"si\"\r\n",
        "  else:\r\n",
        "    return \"no\"\r\n",
        "\r\n",
        "print(sumaSegundo(\"58 41 78 3 25 9\"))\r\n",
        "print(sumaTercero(\"58 41 78 3 25 9\"))\r\n",
        "#Casos de uso:`\r\n",
        "#1\r\n",
        "print(comparacion(\"58 41 78 3 25 9\"))\r\n",
        "#2\r\n",
        "print(comparacion(\"58 50 8 3 25 9\"))"
      ],
      "execution_count": 4,
      "outputs": [
        {
          "output_type": "stream",
          "text": [
            "53\n",
            "87\n",
            "si\n",
            "no\n"
          ],
          "name": "stdout"
        }
      ]
    }
  ]
}