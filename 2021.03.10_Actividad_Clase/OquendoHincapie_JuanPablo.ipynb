{
  "nbformat": 4,
  "nbformat_minor": 0,
  "metadata": {
    "colab": {
      "name": "OquendoHincapie_JuanPablo.ipynb",
      "provenance": []
    },
    "kernelspec": {
      "name": "python3",
      "display_name": "Python 3"
    }
  },
  "cells": [
    {
      "cell_type": "code",
      "metadata": {
        "id": "KvNNSh0dJfMN"
      },
      "source": [
        "def contieneGC(inString):\r\n",
        "  if 'GC' in inString:\r\n",
        "    return 'si'\r\n",
        "  else:\r\n",
        "    return 'no'\r\n",
        "\r\n",
        "print(contieneGC(\"ATGCATTA\"))\r\n",
        "print(contieneGC(\"ATGACATTA\"))\r\n",
        "\r\n",
        "def testContieneGC():\r\n",
        "  testVals = [('ATGCATTA', 'si'),\r\n",
        "              ('CCCGAGA', 'no'),\r\n",
        "              ('AGAGAGAAGAAGAGAAA', 'no'),\r\n",
        "              ('GAGACCCGCC', 'si'),\r\n",
        "              ('', 'no'),\r\n",
        "              ('CCCCCCCCGAGTTTT', 'no'),\r\n",
        "              ]\r\n",
        "  for (inString, esperado) in testVals:\r\n",
        "    respuesta = contieneGC(inString)\r\n",
        "    print(inString, ':', respuesta)\r\n",
        "    assert respuesta == esperado\r\n",
        "  print(\"¡Pruebas Superadas!\")\r\n",
        "\r\n",
        "testContieneGC()"
      ],
      "execution_count": null,
      "outputs": []
    },
    {
      "cell_type": "code",
      "metadata": {
        "id": "cqKl-RgzTBIC"
      },
      "source": [
        "def multiplicalos(inString):\r\n",
        "  numbers = inString.split()\r\n",
        "\r\n",
        "  for i in range(len(numbers)):\r\n",
        "    numbers[i] = int(numbers[i])\r\n",
        "\r\n",
        "  product = 1\r\n",
        "  for num in numbers:\r\n",
        "    product *= num\r\n",
        "\r\n",
        "  productString = str(product)\r\n",
        "  return productString\r\n",
        "\r\n",
        "if (__name__==\"__main__\"):\r\n",
        "  print(multiplicalos(\"1 2 5 10\"))"
      ],
      "execution_count": null,
      "outputs": []
    }
  ]
}